{
  "nbformat": 4,
  "nbformat_minor": 0,
  "metadata": {
    "colab": {
      "name": "1_NumPy y Pandas.ipynb",
      "provenance": [],
      "collapsed_sections": [],
      "toc_visible": true
    },
    "kernelspec": {
      "display_name": "Python 3",
      "language": "python",
      "name": "python3"
    },
    "language_info": {
      "codemirror_mode": {
        "name": "ipython",
        "version": 3
      },
      "file_extension": ".py",
      "mimetype": "text/x-python",
      "name": "python",
      "nbconvert_exporter": "python",
      "pygments_lexer": "ipython3",
      "version": "3.6.6"
    }
  },
  "cells": [
    {
      "cell_type": "markdown",
      "metadata": {
        "id": "b_Ip7Kx7FkVe"
      },
      "source": [
        ""
      ]
    },
    {
      "cell_type": "markdown",
      "metadata": {
        "id": "9LlZTwwjReA6"
      },
      "source": [
        "![alt text](https://whatsthebigdata.files.wordpress.com/2017/06/data-science-machine-learning-software-2015-2017.jpg)"
      ]
    },
    {
      "cell_type": "markdown",
      "metadata": {
        "id": "wZOHU8_HW7XB"
      },
      "source": [
        "##**NumPy**\n",
        "\n",
        "\n",
        "NumPy(Numerica en Python)es una libreria de algebra lineal. Esta libreria es importante aprender porque:\n",
        "\n",
        "1.   NumPy es muy es muy útil para realizar operaciones matemáticas y lógicas en una secuencia de datos de estructura numerica u otros tipos primitivos de tamaño fijo como bytes. Dicha secuencia se le llamara \"array\". \n",
        "2.   NumPy proporciona una gran cantidad de funciones útiles para operaciones en n-arrays  y matrices en Python. \n",
        "\n",
        "NumPy es una libreria importante en la que casi todos los paquetes de ciencia de datos o aprendizaje automático de Python dependen. Ejemplo: SciPy (Scientific Python), Mat-plotlib (libreria grafica), Scikit-learn, etc.\n",
        "\n",
        "\n",
        "\n",
        "Documentación - https://numpy.org/doc/"
      ]
    },
    {
      "cell_type": "markdown",
      "metadata": {
        "id": "gWHjeDJVXJh8"
      },
      "source": [
        "###**Importar las librerias: Numpy y Pandas **"
      ]
    },
    {
      "cell_type": "code",
      "metadata": {
        "id": "r0k1ncgL-JwR"
      },
      "source": [
        "import pandas as pd\n",
        "import numpy as np"
      ],
      "execution_count": null,
      "outputs": []
    },
    {
      "cell_type": "code",
      "metadata": {
        "colab": {
          "base_uri": "https://localhost:8080/",
          "height": 34
        },
        "id": "mwYeX9rSXqn7",
        "outputId": "a7962638-e567-4028-c49f-983740ae675a"
      },
      "source": [
        "print (\"NumPy version - \" + np.version.version)"
      ],
      "execution_count": null,
      "outputs": [
        {
          "output_type": "stream",
          "text": [
            "NumPy version - 1.18.1\n"
          ],
          "name": "stdout"
        }
      ]
    },
    {
      "cell_type": "markdown",
      "metadata": {
        "id": "VnT_x3RUH90r"
      },
      "source": [
        "###**Crear un array, este es una secuencia de datos. Pudiendo ser numeros o letras**"
      ]
    },
    {
      "cell_type": "markdown",
      "metadata": {
        "id": "tIYWe2JLXY1n"
      },
      "source": [
        "####Creamos 1 D *array Numpy*"
      ]
    },
    {
      "cell_type": "code",
      "metadata": {
        "colab": {
          "base_uri": "https://localhost:8080/",
          "height": 34
        },
        "id": "vZq_pfwx92ot",
        "outputId": "b7549075-ebb8-4389-d3d8-6ad1c34e1523"
      },
      "source": [
        "#creamos 1D numpy array (secuencia de datos) desde una lista\n",
        "array_1d = np.array([1, 2, 3, 4, 5])\n",
        "\n",
        "print (array_1d)"
      ],
      "execution_count": null,
      "outputs": [
        {
          "output_type": "stream",
          "text": [
            "[1 2 3 4 5]\n"
          ],
          "name": "stdout"
        }
      ]
    },
    {
      "cell_type": "code",
      "metadata": {
        "colab": {
          "base_uri": "https://localhost:8080/",
          "height": 34
        },
        "id": "yT3QE6Xi-E7z",
        "outputId": "10ff3448-1e4c-44e6-ffbe-671c34cf0921"
      },
      "source": [
        "#creamos 1D numpy array desde una variable lista\n",
        "list_1 = [11, 22, 33, 44, 55]\n",
        "array_l1 = np.array(list_1)\n",
        "\n",
        "print(array_l1)"
      ],
      "execution_count": null,
      "outputs": [
        {
          "output_type": "stream",
          "text": [
            "[11 22 33 44 55]\n"
          ],
          "name": "stdout"
        }
      ]
    },
    {
      "cell_type": "code",
      "metadata": {
        "colab": {
          "base_uri": "https://localhost:8080/",
          "height": 51
        },
        "id": "_NViwsfT-IQz",
        "outputId": "a9d27d1f-0c41-40f7-9dd5-d3039c8bde24"
      },
      "source": [
        "#Vemos que tipo de array numpy hemos creado\n",
        "print (\"Tipo de Array = \" + str(type(array_1d)))\n",
        "\n",
        "#Vemos que tipo de datos es \n",
        "print (\"Tipo de dato = \" + str(array_1d.dtype))"
      ],
      "execution_count": null,
      "outputs": [
        {
          "output_type": "stream",
          "text": [
            "Tipo de Array = <class 'numpy.ndarray'>\n",
            "Tipo de dato = int32\n"
          ],
          "name": "stdout"
        }
      ]
    },
    {
      "cell_type": "code",
      "metadata": {
        "colab": {
          "base_uri": "https://localhost:8080/",
          "height": 34
        },
        "id": "WmnHBC1NVpvy",
        "outputId": "23bb64c0-9e77-4ba4-8f4f-3d14c3fc4bd0"
      },
      "source": [
        "#chequeamos que el tipo de matriz que hemos creado, sea solamente de 1 dimension\n",
        "print(array_1d.shape)"
      ],
      "execution_count": null,
      "outputs": [
        {
          "output_type": "stream",
          "text": [
            "(5,)\n"
          ],
          "name": "stdout"
        }
      ]
    },
    {
      "cell_type": "code",
      "metadata": {
        "colab": {
          "base_uri": "https://localhost:8080/",
          "height": 34
        },
        "id": "R0nY1ugtI5X2",
        "outputId": "f4f1da24-c5d4-43ab-f56f-cf0621938ac9"
      },
      "source": [
        "type(array_1d)"
      ],
      "execution_count": null,
      "outputs": [
        {
          "output_type": "execute_result",
          "data": {
            "text/plain": [
              "numpy.ndarray"
            ]
          },
          "metadata": {
            "tags": []
          },
          "execution_count": 150
        }
      ]
    },
    {
      "cell_type": "code",
      "metadata": {
        "colab": {
          "base_uri": "https://localhost:8080/",
          "height": 34
        },
        "id": "uC_ykMB3Snsb",
        "outputId": "bd9bbd7d-b807-45ed-ac61-4db049b7267e"
      },
      "source": [
        "#Demostración de la función rango (range)\n",
        "plain_range = range(4,12)\n",
        "list(plain_range)"
      ],
      "execution_count": null,
      "outputs": [
        {
          "output_type": "execute_result",
          "data": {
            "text/plain": [
              "[4, 5, 6, 7, 8, 9, 10, 11]"
            ]
          },
          "metadata": {
            "tags": []
          },
          "execution_count": 151
        }
      ]
    },
    {
      "cell_type": "markdown",
      "metadata": {
        "id": "YyjuudJ2Tb3i"
      },
      "source": [
        "Observe cómo el segundo número es exclusivo."
      ]
    },
    {
      "cell_type": "code",
      "metadata": {
        "id": "Kop_SyksTnSG"
      },
      "source": [
        "interval_range = range(1, 15, 2)"
      ],
      "execution_count": null,
      "outputs": []
    },
    {
      "cell_type": "code",
      "metadata": {
        "colab": {
          "base_uri": "https://localhost:8080/",
          "height": 34
        },
        "id": "1ze-WmeSTlPy",
        "outputId": "40971f07-59f7-429c-ff25-040be828d31d"
      },
      "source": [
        "list(interval_range)"
      ],
      "execution_count": null,
      "outputs": [
        {
          "output_type": "execute_result",
          "data": {
            "text/plain": [
              "[1, 3, 5, 7, 9, 11, 13]"
            ]
          },
          "metadata": {
            "tags": []
          },
          "execution_count": 153
        }
      ]
    },
    {
      "cell_type": "markdown",
      "metadata": {
        "id": "QhEdfYupn5ly"
      },
      "source": [
        "### Tu turno de practicar!\n",
        "\n",
        "1. Cree su propia lista de Python usando la función de range.\n",
        "2. Convierta la lista en una NumPy array\n",
        "3. Verifique el tipo de datos para asegurarse de que sea una NumPy array\n",
        "4. Convierta esa array nuevamente en una lista\n",
        "\n",
        "\n"
      ]
    },
    {
      "cell_type": "code",
      "metadata": {
        "colab": {
          "base_uri": "https://localhost:8080/",
          "height": 34
        },
        "id": "nQ5FypjaUGRb",
        "outputId": "07a4f357-1204-409e-cd25-6d97a6d9955f"
      },
      "source": [
        "list(range(15, 1, -2))"
      ],
      "execution_count": null,
      "outputs": [
        {
          "output_type": "execute_result",
          "data": {
            "text/plain": [
              "[15, 13, 11, 9, 7, 5, 3]"
            ]
          },
          "metadata": {
            "tags": []
          },
          "execution_count": 154
        }
      ]
    },
    {
      "cell_type": "markdown",
      "metadata": {
        "id": "zUWdu5an0kcx"
      },
      "source": [
        "### Python Matrices (2D) a NumPy Array"
      ]
    },
    {
      "cell_type": "code",
      "metadata": {
        "colab": {
          "base_uri": "https://localhost:8080/",
          "height": 34
        },
        "id": "gnE9WSrk-g3Q",
        "outputId": "045b51c3-c36d-4ccb-b323-c76c65f53ba7"
      },
      "source": [
        " mymatrix = [[4,2,9],[32,43,68],[73,8,9]]\n",
        " mymatrix\n",
        "#mymatrix = [list(range(1,10,1)),list(range(2,12,1))]\n",
        "#mymatrix"
      ],
      "execution_count": null,
      "outputs": [
        {
          "output_type": "execute_result",
          "data": {
            "text/plain": [
              "[[4, 2, 9], [32, 43, 68], [73, 8, 9]]"
            ]
          },
          "metadata": {
            "tags": []
          },
          "execution_count": 155
        }
      ]
    },
    {
      "cell_type": "code",
      "metadata": {
        "id": "UzOaeWtq-lvA"
      },
      "source": [
        "#Creamos una matriz (2D array)\n",
        "numpy_array = np.array(mymatrix)"
      ],
      "execution_count": null,
      "outputs": []
    },
    {
      "cell_type": "code",
      "metadata": {
        "colab": {
          "base_uri": "https://localhost:8080/",
          "height": 68
        },
        "id": "5GTvBnWjqRO0",
        "outputId": "f1baf4d7-ca44-402c-9134-21930f58a290"
      },
      "source": [
        "numpy_array"
      ],
      "execution_count": null,
      "outputs": [
        {
          "output_type": "execute_result",
          "data": {
            "text/plain": [
              "array([[ 4,  2,  9],\n",
              "       [32, 43, 68],\n",
              "       [73,  8,  9]])"
            ]
          },
          "metadata": {
            "tags": []
          },
          "execution_count": 157
        }
      ]
    },
    {
      "cell_type": "code",
      "metadata": {
        "colab": {
          "base_uri": "https://localhost:8080/",
          "height": 34
        },
        "id": "TvGkTt8p11X3",
        "outputId": "d043775d-1596-49f5-df94-977c9de110cf"
      },
      "source": [
        "type(numpy_array)\n",
        "numpy_array.dtype"
      ],
      "execution_count": null,
      "outputs": [
        {
          "output_type": "execute_result",
          "data": {
            "text/plain": [
              "dtype('int32')"
            ]
          },
          "metadata": {
            "tags": []
          },
          "execution_count": 158
        }
      ]
    },
    {
      "cell_type": "markdown",
      "metadata": {
        "id": "xxp9NvJx1LSt"
      },
      "source": [
        "### Transformar a NumPy Array en un Pandas DataFrame. DataFrame es una estructura de datos, la cual puede contener distintos tipos de elementos. "
      ]
    },
    {
      "cell_type": "code",
      "metadata": {
        "colab": {
          "base_uri": "https://localhost:8080/",
          "height": 142
        },
        "id": "ZO1BD2uiqF4f",
        "outputId": "fd82ea1e-00c5-4064-a597-bac0de95c076"
      },
      "source": [
        "df_from_array = pd.DataFrame(numpy_array)\n",
        "df_from_array"
      ],
      "execution_count": null,
      "outputs": [
        {
          "output_type": "execute_result",
          "data": {
            "text/html": [
              "<div>\n",
              "<style scoped>\n",
              "    .dataframe tbody tr th:only-of-type {\n",
              "        vertical-align: middle;\n",
              "    }\n",
              "\n",
              "    .dataframe tbody tr th {\n",
              "        vertical-align: top;\n",
              "    }\n",
              "\n",
              "    .dataframe thead th {\n",
              "        text-align: right;\n",
              "    }\n",
              "</style>\n",
              "<table border=\"1\" class=\"dataframe\">\n",
              "  <thead>\n",
              "    <tr style=\"text-align: right;\">\n",
              "      <th></th>\n",
              "      <th>0</th>\n",
              "      <th>1</th>\n",
              "      <th>2</th>\n",
              "    </tr>\n",
              "  </thead>\n",
              "  <tbody>\n",
              "    <tr>\n",
              "      <th>0</th>\n",
              "      <td>4</td>\n",
              "      <td>2</td>\n",
              "      <td>9</td>\n",
              "    </tr>\n",
              "    <tr>\n",
              "      <th>1</th>\n",
              "      <td>32</td>\n",
              "      <td>43</td>\n",
              "      <td>68</td>\n",
              "    </tr>\n",
              "    <tr>\n",
              "      <th>2</th>\n",
              "      <td>73</td>\n",
              "      <td>8</td>\n",
              "      <td>9</td>\n",
              "    </tr>\n",
              "  </tbody>\n",
              "</table>\n",
              "</div>"
            ],
            "text/plain": [
              "    0   1   2\n",
              "0   4   2   9\n",
              "1  32  43  68\n",
              "2  73   8   9"
            ]
          },
          "metadata": {
            "tags": []
          },
          "execution_count": 159
        }
      ]
    },
    {
      "cell_type": "markdown",
      "metadata": {
        "id": "xPfwV8450-l5"
      },
      "source": [
        "### Tu turno!\n",
        "\n",
        "1. Crea tu propia matriz en Python\n",
        "2. Convierte la matriz en NumPy array\n",
        "3. Verifica el tipo de dato, para estar seguro que es NumPy array\n",
        "4. Convierte NumPy array en un Pandas DataFrame"
      ]
    },
    {
      "cell_type": "markdown",
      "metadata": {
        "id": "xHo9gJMcUDgN"
      },
      "source": [
        "### Tipos de Datos en Python\n",
        "1. int: Es un número entero\n",
        "2. Float: Es un número real\n",
        "3. str: Es una cadena de carácteres"
      ]
    },
    {
      "cell_type": "code",
      "metadata": {
        "colab": {
          "base_uri": "https://localhost:8080/",
          "height": 34
        },
        "id": "fooco3YqUurc",
        "outputId": "c5577f27-3ed0-45b3-dbdd-2ebab5627827"
      },
      "source": [
        "type(4)"
      ],
      "execution_count": null,
      "outputs": [
        {
          "output_type": "execute_result",
          "data": {
            "text/plain": [
              "int"
            ]
          },
          "metadata": {
            "tags": []
          },
          "execution_count": 160
        }
      ]
    },
    {
      "cell_type": "code",
      "metadata": {
        "colab": {
          "base_uri": "https://localhost:8080/",
          "height": 34
        },
        "id": "y7O2OtSSUws0",
        "outputId": "d68ae0a3-f3ff-4ac0-e1e5-58aea3cb083f"
      },
      "source": [
        "type(4.0)"
      ],
      "execution_count": null,
      "outputs": [
        {
          "output_type": "execute_result",
          "data": {
            "text/plain": [
              "float"
            ]
          },
          "metadata": {
            "tags": []
          },
          "execution_count": 161
        }
      ]
    },
    {
      "cell_type": "code",
      "metadata": {
        "colab": {
          "base_uri": "https://localhost:8080/",
          "height": 34
        },
        "id": "3oZIXlgkU60r",
        "outputId": "773ea366-c475-4036-8e5a-4e0d64d6f577"
      },
      "source": [
        "type('4353')"
      ],
      "execution_count": null,
      "outputs": [
        {
          "output_type": "execute_result",
          "data": {
            "text/plain": [
              "str"
            ]
          },
          "metadata": {
            "tags": []
          },
          "execution_count": 162
        }
      ]
    },
    {
      "cell_type": "code",
      "metadata": {
        "colab": {
          "base_uri": "https://localhost:8080/",
          "height": 34
        },
        "id": "tj4TyBO4U9Ec",
        "outputId": "620179f1-12d7-48a2-e5b9-f1fb896b8225"
      },
      "source": [
        "type('Hello')"
      ],
      "execution_count": null,
      "outputs": [
        {
          "output_type": "execute_result",
          "data": {
            "text/plain": [
              "str"
            ]
          },
          "metadata": {
            "tags": []
          },
          "execution_count": 163
        }
      ]
    },
    {
      "cell_type": "markdown",
      "metadata": {
        "id": "ffmA0yWWoouI"
      },
      "source": [
        "Función: DateTime"
      ]
    },
    {
      "cell_type": "code",
      "metadata": {
        "colab": {
          "base_uri": "https://localhost:8080/",
          "height": 34
        },
        "id": "lSKzaLIxWnAq",
        "outputId": "97221090-e877-4002-fc64-1c05c2977d24"
      },
      "source": [
        "import datetime\n",
        "datetime_example = datetime.datetime.now()\n",
        "print(datetime_example)"
      ],
      "execution_count": null,
      "outputs": [
        {
          "output_type": "stream",
          "text": [
            "2021-03-30 17:38:30.270030\n"
          ],
          "name": "stdout"
        }
      ]
    },
    {
      "cell_type": "code",
      "metadata": {
        "colab": {
          "base_uri": "https://localhost:8080/",
          "height": 34
        },
        "id": "Q_fx0DueXzEi",
        "outputId": "195e99ff-bd0e-4a0b-f28d-1aa7224cefe9"
      },
      "source": [
        "type(datetime_example)"
      ],
      "execution_count": null,
      "outputs": [
        {
          "output_type": "execute_result",
          "data": {
            "text/plain": [
              "datetime.datetime"
            ]
          },
          "metadata": {
            "tags": []
          },
          "execution_count": 165
        }
      ]
    },
    {
      "cell_type": "code",
      "metadata": {
        "colab": {
          "base_uri": "https://localhost:8080/",
          "height": 34
        },
        "id": "LMGLBtVvYDjm",
        "outputId": "4a07a919-0dbe-4030-958c-d51f7c4b463d"
      },
      "source": [
        "another_list = [23, [34, 21], 'Google']\n",
        "another_list"
      ],
      "execution_count": null,
      "outputs": [
        {
          "output_type": "execute_result",
          "data": {
            "text/plain": [
              "[23, [34, 21], 'Google']"
            ]
          },
          "metadata": {
            "tags": []
          },
          "execution_count": 166
        }
      ]
    },
    {
      "cell_type": "markdown",
      "metadata": {
        "id": "vvVMKEWM38Yz"
      },
      "source": [
        "###**Indexing, Slice indexing**\n",
        "Indexing, significa Indexación. Nos referimos a ello cuando para indicar la posición de un elemento dentro del iterable. \n",
        "\"Slice\" significa obtener un subconjunto de elementos de un iterable en función de sus índices.\n",
        "\n",
        "Ejemplo: Estoy por rendir un examen en el cual se le asignó un número a cada estudiante.Cuando llamanrón el número 11, entré porque sabia que era yo. Si hubieran llamado \"Pasen del número 1 al 15\", también hubiera entrado y este subconjunto es el \"slice indexing\". \n",
        "\n",
        "Recuerda que el index empieza en 0.\n",
        "\n",
        "\n",
        "Se puede usar el slice indexing para extraer sub-regiones de ndarrays\n",
        "\n",
        "Docuementación en: https://docs.scipy.org/doc/numpy/reference/arrays.indexing.html"
      ]
    },
    {
      "cell_type": "code",
      "metadata": {
        "colab": {
          "base_uri": "https://localhost:8080/",
          "height": 34
        },
        "id": "op2ZXc3l34LN",
        "outputId": "a36753eb-2a69-4a14-9f7d-ef216c4a3cbd"
      },
      "source": [
        "#creamos 1D array\n",
        "array_1d = np.array([1, 2, 3, 4, 5, 6, 7])\n",
        "print (array_1d)"
      ],
      "execution_count": null,
      "outputs": [
        {
          "output_type": "stream",
          "text": [
            "[1 2 3 4 5 6 7]\n"
          ],
          "name": "stdout"
        }
      ]
    },
    {
      "cell_type": "code",
      "metadata": {
        "colab": {
          "base_uri": "https://localhost:8080/",
          "height": 51
        },
        "id": "WcEfrOCo3_1l",
        "outputId": "62e7d7f9-98d5-4864-cee7-2527fd9c6ba6"
      },
      "source": [
        "#Como tenemos 1D array,solo se necesita realizar un index para acceder a cualquier posicion del elemento\n",
        "\n",
        "#Si el valor del inde es 2\n",
        "print ('Elementos en el index 2: ', array_1d[2])\n",
        "\n",
        "#ndarrays son mutables,aqui cambiamos el elemento al indeex 2 \n",
        "array_1d[2] = 10\n",
        "print ('Elementos en el index 2 después del cambio: ', array_1d[2])"
      ],
      "execution_count": null,
      "outputs": [
        {
          "output_type": "stream",
          "text": [
            "Elementos en el index 2:  3\n",
            "Elementos en el index 2 después del cambio:  10\n"
          ],
          "name": "stdout"
        }
      ]
    },
    {
      "cell_type": "code",
      "metadata": {
        "colab": {
          "base_uri": "https://localhost:8080/",
          "height": 34
        },
        "id": "Eg6gPpUjDLpc",
        "outputId": "36d00806-405d-41d9-ebc6-c75d149dd641"
      },
      "source": [
        "print (array_1d)"
      ],
      "execution_count": null,
      "outputs": [
        {
          "output_type": "stream",
          "text": [
            "[ 1  2 10  4  5  6  7]\n"
          ],
          "name": "stdout"
        }
      ]
    },
    {
      "cell_type": "code",
      "metadata": {
        "colab": {
          "base_uri": "https://localhost:8080/",
          "height": 51
        },
        "id": "jyz1OdSy4Dsx",
        "outputId": "c46833e0-3835-4234-f956-9a4169a857f8"
      },
      "source": [
        "# Obtener los valores en el rango\n",
        "print ('Elementos en el rango: ', array_1d[1:3]) #a:b - incluye a y excluye b\n",
        "\n",
        "#Podemos cambiar los valores en el rango\n",
        "array_1d[1:3] = 20\n",
        "print ('Elementos en el rango despues del cambio: ', array_1d[1:3])"
      ],
      "execution_count": null,
      "outputs": [
        {
          "output_type": "stream",
          "text": [
            "Elementos en el rango:  [ 2 10]\n",
            "Elementos en el rango despues del cambio:  [20 20]\n"
          ],
          "name": "stdout"
        }
      ]
    },
    {
      "cell_type": "code",
      "metadata": {
        "colab": {
          "base_uri": "https://localhost:8080/",
          "height": 136
        },
        "id": "K_gsTmXx4GMf",
        "outputId": "94f3877e-45b9-49ab-9094-80880fe9c641"
      },
      "source": [
        "#Para 2D arrays vamos a necesitar dos indexing, primero uno por la fila y el segundo por la columna\n",
        "#Creamos 2D array\n",
        "array_2d = np.array([[11, 12, 13, 14, 15, 16, 17], [21, 22, 23, 24, 25, 26, 27], [31, 32, 33, 34, 35, 36, 37]])\n",
        "print ('array original: \\n', array_2d, '\\n')\n",
        "\n",
        "#slicing: Genera un array del mismo rango\n",
        "array_copy = array_2d.copy()\n",
        "slice_row = array_copy[1:2, :] #a:b - incluyendo a y excluyendo b\n",
        "print ('sliced array on [1:2, :]: \\n', slice_row)"
      ],
      "execution_count": null,
      "outputs": [
        {
          "output_type": "stream",
          "text": [
            "array original: \n",
            " [[11 12 13 14 15 16 17]\n",
            " [21 22 23 24 25 26 27]\n",
            " [31 32 33 34 35 36 37]] \n",
            "\n",
            "sliced array on [1:2, :]: \n",
            " [[21 22 23 24 25 26 27]]\n"
          ],
          "name": "stdout"
        }
      ]
    },
    {
      "cell_type": "code",
      "metadata": {
        "colab": {
          "base_uri": "https://localhost:8080/",
          "height": 136
        },
        "id": "M0f_4RT07RK8",
        "outputId": "6a975d1e-ec93-448e-f8cd-5106937fe9a1"
      },
      "source": [
        "# Si cambiamos el sliced array, se va a cambiar también el array original.\n",
        "slice_row[:, :] = 10\n",
        "\n",
        "print ('sliced array: \\n', slice_row, '\\n')\n",
        "print ('original array: \\n', array_2d)\n"
      ],
      "execution_count": null,
      "outputs": [
        {
          "output_type": "stream",
          "text": [
            "sliced array: \n",
            " [[10 10 10 10 10 10 10]] \n",
            "\n",
            "original array: \n",
            " [[11 12 13 14 15 16 17]\n",
            " [21 22 23 24 25 26 27]\n",
            " [31 32 33 34 35 36 37]]\n"
          ],
          "name": "stdout"
        }
      ]
    },
    {
      "cell_type": "code",
      "metadata": {
        "colab": {
          "base_uri": "https://localhost:8080/",
          "height": 68
        },
        "id": "UTOheuHq7V_K",
        "outputId": "40125148-387a-40d5-ed61-f33b506cd213"
      },
      "source": [
        "#También se puede hacer el slicing por columnas\n",
        "slice_col = array_2d[:, 1:5]\n",
        "print (slice_col)"
      ],
      "execution_count": null,
      "outputs": [
        {
          "output_type": "stream",
          "text": [
            "[[12 13 14 15]\n",
            " [22 23 24 25]\n",
            " [32 33 34 35]]\n"
          ],
          "name": "stdout"
        }
      ]
    },
    {
      "cell_type": "code",
      "metadata": {
        "colab": {
          "base_uri": "https://localhost:8080/",
          "height": 34
        },
        "id": "m2Ekg4b27XvO",
        "outputId": "39a73058-4085-447f-e710-4ff4942237b8"
      },
      "source": [
        "# Podemos usar filtros para seleccinar los elementos que cumplen ciertos criterios.\n",
        "#Seleccionamos los elementos que son mayores a 10\n",
        "slice_col[slice_col>10]"
      ],
      "execution_count": null,
      "outputs": [
        {
          "output_type": "execute_result",
          "data": {
            "text/plain": [
              "array([12, 13, 14, 15, 22, 23, 24, 25, 32, 33, 34, 35])"
            ]
          },
          "metadata": {
            "tags": []
          },
          "execution_count": 174
        }
      ]
    },
    {
      "cell_type": "code",
      "metadata": {
        "colab": {
          "base_uri": "https://localhost:8080/",
          "height": 68
        },
        "id": "apCfM-M_7dUp",
        "outputId": "3f639cd5-8f81-4818-d6ff-618a510080aa"
      },
      "source": [
        "#Usando esta misma logica se pueden cambiar los elementos del array\n",
        "#agregar 1 a todos los valores impares\n",
        "slice_col[slice_col % 2 == 1] += 1\n",
        "slice_col"
      ],
      "execution_count": null,
      "outputs": [
        {
          "output_type": "execute_result",
          "data": {
            "text/plain": [
              "array([[12, 14, 14, 16],\n",
              "       [22, 24, 24, 26],\n",
              "       [32, 34, 34, 36]])"
            ]
          },
          "metadata": {
            "tags": []
          },
          "execution_count": 175
        }
      ]
    },
    {
      "cell_type": "markdown",
      "metadata": {
        "id": "R0hLFnda7hTd"
      },
      "source": [
        "###**Operaciones array aritmeticas**\n",
        "\n",
        "Más información en: https://docs.scipy.org/doc/numpy-1.13.0/reference/routines.math.html"
      ]
    },
    {
      "cell_type": "code",
      "metadata": {
        "colab": {
          "base_uri": "https://localhost:8080/",
          "height": 272
        },
        "id": "lym5ChIW7e_j",
        "outputId": "afe07668-4d44-4104-da2f-99da4d96a6c0"
      },
      "source": [
        "#Las sumas pueden ser hechas con el signo de suma o con la función numpy: 'add' \n",
        "arr_x = np.array([[10, 20, 30], [40, 50, 60]])\n",
        "arr_y = np.array([[11, 21, 31], [41, 51, 61]])\n",
        "\n",
        "print(\"Array X\")\n",
        "print(arr_x, '\\n')\n",
        "\n",
        "print(\"Array Y\")\n",
        "print(arr_y, '\\n')\n",
        "\n",
        "print(\"Suma con los signos\")\n",
        "print (arr_x + arr_y, '\\n')\n",
        "\n",
        "print(\"Función suma de Numpy: add\")\n",
        "print (np.add(arr_x, arr_y))"
      ],
      "execution_count": null,
      "outputs": [
        {
          "output_type": "stream",
          "text": [
            "Array X\n",
            "[[10 20 30]\n",
            " [40 50 60]] \n",
            "\n",
            "Array Y\n",
            "[[11 21 31]\n",
            " [41 51 61]] \n",
            "\n",
            "Suma con los signos\n",
            "[[ 21  41  61]\n",
            " [ 81 101 121]] \n",
            "\n",
            "Función suma de Numpy: add\n",
            "[[ 21  41  61]\n",
            " [ 81 101 121]]\n"
          ],
          "name": "stdout"
        }
      ]
    },
    {
      "cell_type": "code",
      "metadata": {
        "colab": {
          "base_uri": "https://localhost:8080/",
          "height": 136
        },
        "id": "LDn13oM-7kXD",
        "outputId": "9dbcbc00-5828-43a5-b9da-7860cdabb0d4"
      },
      "source": [
        "# Se realiza lo mismo con la resta \n",
        "print(\"Resta con los signos\")\n",
        "print (arr_y - arr_x, '\\n')\n",
        "\n",
        "print(\"Resta con la función Numpy: subtrac\")\n",
        "print (np.subtract(arr_y, arr_x))"
      ],
      "execution_count": null,
      "outputs": [
        {
          "output_type": "stream",
          "text": [
            "Resta con los signos\n",
            "[[1 1 1]\n",
            " [1 1 1]] \n",
            "\n",
            "Resta con la función Numpy: subtrac\n",
            "[[1 1 1]\n",
            " [1 1 1]]\n"
          ],
          "name": "stdout"
        }
      ]
    },
    {
      "cell_type": "code",
      "metadata": {
        "colab": {
          "base_uri": "https://localhost:8080/",
          "height": 136
        },
        "id": "Vq7UuzMD7mQf",
        "outputId": "4c6d5fc1-35e2-4dd6-b74e-1f5feb688ef9"
      },
      "source": [
        "# Multiplicación\n",
        "print(\"Multiplicación con los signos\")\n",
        "print (arr_x * arr_y, '\\n')\n",
        "\n",
        "print(\"Multiplicación con la función Numpy: Multiply\")\n",
        "print (np.multiply(arr_x, arr_y))"
      ],
      "execution_count": null,
      "outputs": [
        {
          "output_type": "stream",
          "text": [
            "Multiplicación con los signos\n",
            "[[ 110  420  930]\n",
            " [1640 2550 3660]] \n",
            "\n",
            "Multiplicación con la función Numpy: Multiply\n",
            "[[ 110  420  930]\n",
            " [1640 2550 3660]]\n"
          ],
          "name": "stdout"
        }
      ]
    },
    {
      "cell_type": "code",
      "metadata": {
        "colab": {
          "base_uri": "https://localhost:8080/",
          "height": 136
        },
        "id": "vaIktIl97pD_",
        "outputId": "48ae50cc-2f28-4225-eb53-fff9246b6320"
      },
      "source": [
        "#División\n",
        "print(\"Division con los signos\")\n",
        "print (arr_y / arr_x, '\\n')\n",
        "\n",
        "print(\"División con la función Numpy: Divide\")\n",
        "print (np.divide(arr_y, arr_x))"
      ],
      "execution_count": null,
      "outputs": [
        {
          "output_type": "stream",
          "text": [
            "Division con los signos\n",
            "[[1.1        1.05       1.03333333]\n",
            " [1.025      1.02       1.01666667]] \n",
            "\n",
            "División con la función Numpy: Divide\n",
            "[[1.1        1.05       1.03333333]\n",
            " [1.025      1.02       1.01666667]]\n"
          ],
          "name": "stdout"
        }
      ]
    },
    {
      "cell_type": "code",
      "metadata": {
        "colab": {
          "base_uri": "https://localhost:8080/",
          "height": 51
        },
        "id": "Lt5wUEov7qz9",
        "outputId": "67697879-dd3b-4751-91ad-c75beb9a65da"
      },
      "source": [
        "#Raiz cuadrada\n",
        "\n",
        "print (np.sqrt(arr_x))"
      ],
      "execution_count": null,
      "outputs": [
        {
          "output_type": "stream",
          "text": [
            "[[3.16227766 4.47213595 5.47722558]\n",
            " [6.32455532 7.07106781 7.74596669]]\n"
          ],
          "name": "stdout"
        }
      ]
    },
    {
      "cell_type": "code",
      "metadata": {
        "colab": {
          "base_uri": "https://localhost:8080/",
          "height": 51
        },
        "id": "rO8qV3Vl7tD3",
        "outputId": "cc5d549d-3745-4f29-e9f3-81a229f7a2fb"
      },
      "source": [
        "#Exponente (e**x)\n",
        "\n",
        "print (np.exp(arr_x))"
      ],
      "execution_count": null,
      "outputs": [
        {
          "output_type": "stream",
          "text": [
            "[[2.20264658e+04 4.85165195e+08 1.06864746e+13]\n",
            " [2.35385267e+17 5.18470553e+21 1.14200739e+26]]\n"
          ],
          "name": "stdout"
        }
      ]
    },
    {
      "cell_type": "code",
      "metadata": {
        "colab": {
          "base_uri": "https://localhost:8080/",
          "height": 51
        },
        "id": "4kwUxsHZ7u-Y",
        "outputId": "16bc89ae-64a6-4822-88ea-4518acf6e465"
      },
      "source": [
        "#Potencia (x ** y)\n",
        "\n",
        "print (np.power(arr_x, 3))"
      ],
      "execution_count": null,
      "outputs": [
        {
          "output_type": "stream",
          "text": [
            "[[  1000   8000  27000]\n",
            " [ 64000 125000 216000]]\n"
          ],
          "name": "stdout"
        }
      ]
    },
    {
      "cell_type": "markdown",
      "metadata": {
        "id": "33GXRIYw7zNL"
      },
      "source": [
        "###**Metodos Estadisticos**\n",
        "\n",
        "Más información en https://docs.scipy.org/doc/numpy-1.13.0/reference/routines.statistics.html\n"
      ]
    },
    {
      "cell_type": "code",
      "metadata": {
        "colab": {
          "base_uri": "https://localhost:8080/",
          "height": 85
        },
        "id": "fwAkR1QN7wwu",
        "outputId": "edc36f97-8288-416d-db2f-d576f52b0c73"
      },
      "source": [
        "#Crear una matriz aleatoria (random) de 4x6\n",
        "arr = np.random.randn(4,6)\n",
        "print (arr)"
      ],
      "execution_count": null,
      "outputs": [
        {
          "output_type": "stream",
          "text": [
            "[[ 0.13942686  1.3266524  -2.52615814  0.25894765  1.33691189  0.62956501]\n",
            " [-0.48673843 -0.96741844 -0.69784397  0.86120658 -0.54381656 -0.51026398]\n",
            " [ 0.298096   -1.45606052  1.33802676 -1.95563428  1.83599864 -0.30172026]\n",
            " [-0.59327364  0.22871192  0.65417263 -1.47375346 -1.45903833 -0.26390252]]\n"
          ],
          "name": "stdout"
        }
      ]
    },
    {
      "cell_type": "code",
      "metadata": {
        "colab": {
          "base_uri": "https://localhost:8080/",
          "height": 34
        },
        "id": "CBQOc1bq72hl",
        "outputId": "27402af5-a5e1-4b7c-af0f-f4955ee5e736"
      },
      "source": [
        "#Calcular la media (mean) de todos los elementos\n",
        "print (arr.mean())"
      ],
      "execution_count": null,
      "outputs": [
        {
          "output_type": "stream",
          "text": [
            "-0.18032942495016221\n"
          ],
          "name": "stdout"
        }
      ]
    },
    {
      "cell_type": "code",
      "metadata": {
        "colab": {
          "base_uri": "https://localhost:8080/",
          "height": 34
        },
        "id": "t2ydRW0G82fi",
        "outputId": "5d57673e-0ee3-46a3-c114-3819ae4bf425"
      },
      "source": [
        "# Media por fila\n",
        "print (arr.mean(axis = 1))"
      ],
      "execution_count": null,
      "outputs": [
        {
          "output_type": "stream",
          "text": [
            "[ 0.19422428 -0.39081247 -0.04021561 -0.4845139 ]\n"
          ],
          "name": "stdout"
        }
      ]
    },
    {
      "cell_type": "code",
      "metadata": {
        "colab": {
          "base_uri": "https://localhost:8080/",
          "height": 34
        },
        "id": "zGr3NkDH84Or",
        "outputId": "11cb6bd0-b31a-4976-b0c6-8626c59e83d8"
      },
      "source": [
        "#Media por columna\n",
        "print (arr.mean(axis = 0))"
      ],
      "execution_count": null,
      "outputs": [
        {
          "output_type": "stream",
          "text": [
            "[-0.1606223  -0.21702866 -0.30795068 -0.57730838  0.29251391 -0.11158044]\n"
          ],
          "name": "stdout"
        }
      ]
    },
    {
      "cell_type": "code",
      "metadata": {
        "colab": {
          "base_uri": "https://localhost:8080/",
          "height": 34
        },
        "id": "GnnvZcZS86KG",
        "outputId": "e73b7e39-3abc-4075-87d4-ceb7be698642"
      },
      "source": [
        "#calcular la mediana para todos los elementos, por fila o columna. Se calcula de la misma manera que la media\n",
        "\n",
        "print (np.median(arr))"
      ],
      "execution_count": null,
      "outputs": [
        {
          "output_type": "stream",
          "text": [
            "-0.28281138808684136\n"
          ],
          "name": "stdout"
        }
      ]
    },
    {
      "cell_type": "markdown",
      "metadata": {
        "id": "NVIunr3nP-FM"
      },
      "source": [
        "*que significa eje (axis)?* https://stackoverflow.com/questions/22149584/what-does-axis-in-pandas-mean\n"
      ]
    },
    {
      "cell_type": "code",
      "metadata": {
        "colab": {
          "base_uri": "https://localhost:8080/",
          "height": 34
        },
        "id": "lufL5ise88CD",
        "outputId": "0a541ef4-3b40-40d2-8fd2-e1b55c41ef7d"
      },
      "source": [
        "#Suma de todos los elementos, por fila o columna. Se calcula de la misma forma que se hizo con la media\n",
        "print (np.sum(arr))"
      ],
      "execution_count": null,
      "outputs": [
        {
          "output_type": "stream",
          "text": [
            "-4.327906198803893\n"
          ],
          "name": "stdout"
        }
      ]
    },
    {
      "cell_type": "code",
      "metadata": {
        "colab": {
          "base_uri": "https://localhost:8080/",
          "height": 153
        },
        "id": "siHQp0hRl9ae",
        "outputId": "27080537-b3fa-4729-fa27-eef32a38aefe"
      },
      "source": [
        "arr"
      ],
      "execution_count": null,
      "outputs": [
        {
          "output_type": "execute_result",
          "data": {
            "text/plain": [
              "array([[ 0.13942686,  1.3266524 , -2.52615814,  0.25894765,  1.33691189,\n",
              "         0.62956501],\n",
              "       [-0.48673843, -0.96741844, -0.69784397,  0.86120658, -0.54381656,\n",
              "        -0.51026398],\n",
              "       [ 0.298096  , -1.45606052,  1.33802676, -1.95563428,  1.83599864,\n",
              "        -0.30172026],\n",
              "       [-0.59327364,  0.22871192,  0.65417263, -1.47375346, -1.45903833,\n",
              "        -0.26390252]])"
            ]
          },
          "metadata": {
            "tags": []
          },
          "execution_count": 189
        }
      ]
    },
    {
      "cell_type": "markdown",
      "metadata": {
        "id": "bVKB_nfr8-Zt"
      },
      "source": [
        "###**Leer o escribir en disco**"
      ]
    },
    {
      "cell_type": "code",
      "metadata": {
        "id": "VC-6HHYN9A1C"
      },
      "source": [
        "np.savetxt('array.txt', X = arr, delimiter = ',')"
      ],
      "execution_count": null,
      "outputs": []
    },
    {
      "cell_type": "code",
      "metadata": {
        "colab": {
          "base_uri": "https://localhost:8080/",
          "height": 153
        },
        "id": "5Ja8UebZ9CzD",
        "outputId": "ffbc8b0d-42e0-4cd2-a4b1-0242cce6e7b7"
      },
      "source": [
        "np.loadtxt('array.txt', delimiter = ',')"
      ],
      "execution_count": null,
      "outputs": [
        {
          "output_type": "execute_result",
          "data": {
            "text/plain": [
              "array([[ 0.13942686,  1.3266524 , -2.52615814,  0.25894765,  1.33691189,\n",
              "         0.62956501],\n",
              "       [-0.48673843, -0.96741844, -0.69784397,  0.86120658, -0.54381656,\n",
              "        -0.51026398],\n",
              "       [ 0.298096  , -1.45606052,  1.33802676, -1.95563428,  1.83599864,\n",
              "        -0.30172026],\n",
              "       [-0.59327364,  0.22871192,  0.65417263, -1.47375346, -1.45903833,\n",
              "        -0.26390252]])"
            ]
          },
          "metadata": {
            "tags": []
          },
          "execution_count": 191
        }
      ]
    },
    {
      "cell_type": "markdown",
      "metadata": {
        "id": "8CFIBK26_m1C"
      },
      "source": [
        "##**Pandas**\n",
        "\n",
        "Pandas es una libreria numérica de Python de código abierto que se construye sobre NumPy. \n",
        "\n",
        "Porqué es importante aprender Pandas:\n",
        "\n",
        "Pandas permite realizar limpieza, preparación y análisis de datos. Además, funciona bien con datos de diferentes tipos de fuentes como: Hoja de Excel, archivo csv, archivo sql o incluso una página web\n",
        "\n",
        "Documentación - https://pandas.pydata.org/pandas-docs/version/0.25.3/"
      ]
    },
    {
      "cell_type": "markdown",
      "metadata": {
        "id": "C4kOr0CqE69a"
      },
      "source": [
        "###**Pandas Series**\n",
        "\n",
        "La serie Pandas es una matriz etiquetada unidimensional que es capaz de contener datos de cualquier tipo"
      ]
    },
    {
      "cell_type": "code",
      "metadata": {
        "colab": {
          "base_uri": "https://localhost:8080/",
          "height": 119
        },
        "id": "vCuWFEMoE6md",
        "outputId": "d7190b63-8a35-41e6-ba99-00b066b34b8c"
      },
      "source": [
        "#Creamos un panda series de una lista\n",
        "ls = ['a', 'b', 'c', 'd', 'e']\n",
        "ser_1 = pd.Series(ls)\n",
        "\n",
        "print (ser_1)"
      ],
      "execution_count": null,
      "outputs": [
        {
          "output_type": "stream",
          "text": [
            "0    a\n",
            "1    b\n",
            "2    c\n",
            "3    d\n",
            "4    e\n",
            "dtype: object\n"
          ],
          "name": "stdout"
        }
      ]
    },
    {
      "cell_type": "code",
      "metadata": {
        "colab": {
          "base_uri": "https://localhost:8080/",
          "height": 119
        },
        "id": "Kt_sBO7yFCwK",
        "outputId": "e96a65e9-4d04-49d8-f307-a5c6b513b624"
      },
      "source": [
        "# Creamos una panda series desde un array\n",
        "arr = np.array([10, 20, 30, 40, 50])\n",
        "ser_2 = pd.Series(arr)\n",
        "\n",
        "print (ser_2)"
      ],
      "execution_count": null,
      "outputs": [
        {
          "output_type": "stream",
          "text": [
            "0    10\n",
            "1    20\n",
            "2    30\n",
            "3    40\n",
            "4    50\n",
            "dtype: int32\n"
          ],
          "name": "stdout"
        }
      ]
    },
    {
      "cell_type": "code",
      "metadata": {
        "colab": {
          "base_uri": "https://localhost:8080/",
          "height": 119
        },
        "id": "ZP-mbzU1FFHX",
        "outputId": "1a38f122-cb35-466a-f2a6-e2c2f07a46c1"
      },
      "source": [
        "# Creamos una serie con una indexación especifica\n",
        "ser_3 = pd.Series(arr, index = ['sarah', 'bob', 'alex', 'den', 'nancy'])\n",
        "\n",
        "print (ser_3)"
      ],
      "execution_count": null,
      "outputs": [
        {
          "output_type": "stream",
          "text": [
            "sarah    10\n",
            "bob      20\n",
            "alex     30\n",
            "den      40\n",
            "nancy    50\n",
            "dtype: int32\n"
          ],
          "name": "stdout"
        }
      ]
    },
    {
      "cell_type": "code",
      "metadata": {
        "colab": {
          "base_uri": "https://localhost:8080/",
          "height": 238
        },
        "id": "xhDwmX89FG_F",
        "outputId": "3807e48b-e837-403c-a9db-060022ae9598"
      },
      "source": [
        "# Obtenemos un elemento mediante el index \n",
        "print (ser_3[3], '\\n\\n')\n",
        "print (ser_3[[0, 2, 4]], '\\n\\n')\n",
        "print (ser_3[:3])"
      ],
      "execution_count": null,
      "outputs": [
        {
          "output_type": "stream",
          "text": [
            "40 \n",
            "\n",
            "\n",
            "sarah    10\n",
            "alex     30\n",
            "nancy    50\n",
            "dtype: int32 \n",
            "\n",
            "\n",
            "sarah    10\n",
            "bob      20\n",
            "alex     30\n",
            "dtype: int32\n"
          ],
          "name": "stdout"
        }
      ]
    },
    {
      "cell_type": "code",
      "metadata": {
        "colab": {
          "base_uri": "https://localhost:8080/",
          "height": 136
        },
        "id": "0gFWObG3GNe7",
        "outputId": "403b5e4d-5380-485f-c5a1-6b56cd067c34"
      },
      "source": [
        "#Obtenemos un elemento mediante la etiqueta del index \n",
        "print (ser_3['den'], '\\n\\n')\n",
        "print (ser_3[['den', 'alex', 'sarah']])"
      ],
      "execution_count": null,
      "outputs": [
        {
          "output_type": "stream",
          "text": [
            "40 \n",
            "\n",
            "\n",
            "den      40\n",
            "alex     30\n",
            "sarah    10\n",
            "dtype: int32\n"
          ],
          "name": "stdout"
        }
      ]
    },
    {
      "cell_type": "markdown",
      "metadata": {
        "id": "YUYkHX_I3IAT"
      },
      "source": [
        "### Creamos un Pandas DataFrame\n",
        "\n",
        "Pandas DataFrame es una estructura de datos bidimensional etiquetada."
      ]
    },
    {
      "cell_type": "code",
      "metadata": {
        "colab": {
          "base_uri": "https://localhost:8080/",
          "height": 34
        },
        "id": "3E6hU6qV3Mcq",
        "outputId": "5a41c92f-7b1b-4fff-b168-8fbda411d905"
      },
      "source": [
        "#Creamos a partir de una lista de listas\n",
        "pet_info = [['Blain', 10, 'Dog'], ['Lucy', 4 , 'Cat'], ['Cinco', 8, 'Rabbit']]\n",
        "pet_info"
      ],
      "execution_count": null,
      "outputs": [
        {
          "output_type": "execute_result",
          "data": {
            "text/plain": [
              "[['Blain', 10, 'Dog'], ['Lucy', 4, 'Cat'], ['Cinco', 8, 'Rabbit']]"
            ]
          },
          "metadata": {
            "tags": []
          },
          "execution_count": 197
        }
      ]
    },
    {
      "cell_type": "code",
      "metadata": {
        "colab": {
          "base_uri": "https://localhost:8080/",
          "height": 142
        },
        "id": "cTbxuatM4HEH",
        "outputId": "ae36fb02-6e28-4803-90dc-86ffbc5da11f"
      },
      "source": [
        "pet_df = pd.DataFrame(pet_info, columns = ['Name', 'Age', 'Type'],\n",
        "                      index = ['A', 'B', 'C'])\n",
        "                     \n",
        "pet_df"
      ],
      "execution_count": null,
      "outputs": [
        {
          "output_type": "execute_result",
          "data": {
            "text/html": [
              "<div>\n",
              "<style scoped>\n",
              "    .dataframe tbody tr th:only-of-type {\n",
              "        vertical-align: middle;\n",
              "    }\n",
              "\n",
              "    .dataframe tbody tr th {\n",
              "        vertical-align: top;\n",
              "    }\n",
              "\n",
              "    .dataframe thead th {\n",
              "        text-align: right;\n",
              "    }\n",
              "</style>\n",
              "<table border=\"1\" class=\"dataframe\">\n",
              "  <thead>\n",
              "    <tr style=\"text-align: right;\">\n",
              "      <th></th>\n",
              "      <th>Name</th>\n",
              "      <th>Age</th>\n",
              "      <th>Type</th>\n",
              "    </tr>\n",
              "  </thead>\n",
              "  <tbody>\n",
              "    <tr>\n",
              "      <th>A</th>\n",
              "      <td>Blain</td>\n",
              "      <td>10</td>\n",
              "      <td>Dog</td>\n",
              "    </tr>\n",
              "    <tr>\n",
              "      <th>B</th>\n",
              "      <td>Lucy</td>\n",
              "      <td>4</td>\n",
              "      <td>Cat</td>\n",
              "    </tr>\n",
              "    <tr>\n",
              "      <th>C</th>\n",
              "      <td>Cinco</td>\n",
              "      <td>8</td>\n",
              "      <td>Rabbit</td>\n",
              "    </tr>\n",
              "  </tbody>\n",
              "</table>\n",
              "</div>"
            ],
            "text/plain": [
              "    Name  Age    Type\n",
              "A  Blain   10     Dog\n",
              "B   Lucy    4     Cat\n",
              "C  Cinco    8  Rabbit"
            ]
          },
          "metadata": {
            "tags": []
          },
          "execution_count": 198
        }
      ]
    },
    {
      "cell_type": "code",
      "metadata": {
        "colab": {
          "base_uri": "https://localhost:8080/",
          "height": 85
        },
        "id": "fhwYNSHraE-i",
        "outputId": "ec37a1e4-011c-466b-f58b-c89a969b0064"
      },
      "source": [
        "pet_df['Name']"
      ],
      "execution_count": null,
      "outputs": [
        {
          "output_type": "execute_result",
          "data": {
            "text/plain": [
              "A    Blain\n",
              "B     Lucy\n",
              "C    Cinco\n",
              "Name: Name, dtype: object"
            ]
          },
          "metadata": {
            "tags": []
          },
          "execution_count": 199
        }
      ]
    },
    {
      "cell_type": "markdown",
      "metadata": {
        "id": "bObLEA0SHNcv"
      },
      "source": [
        "### Tú turno!\n",
        "\n",
        "Observa el 'Tipo' de Columna"
      ]
    },
    {
      "cell_type": "code",
      "metadata": {
        "colab": {
          "base_uri": "https://localhost:8080/",
          "height": 34
        },
        "id": "1hcVD3je6OzG",
        "outputId": "35276f97-3541-4a4a-c61e-287623628369"
      },
      "source": [
        "type(pet_df)"
      ],
      "execution_count": null,
      "outputs": [
        {
          "output_type": "execute_result",
          "data": {
            "text/plain": [
              "pandas.core.frame.DataFrame"
            ]
          },
          "metadata": {
            "tags": []
          },
          "execution_count": 200
        }
      ]
    },
    {
      "cell_type": "code",
      "metadata": {
        "colab": {
          "base_uri": "https://localhost:8080/",
          "height": 85
        },
        "id": "Dn8LE4IwYnFb",
        "outputId": "05a79856-7647-4549-e123-2ea2951c2439"
      },
      "source": [
        "pet_df.dtypes"
      ],
      "execution_count": null,
      "outputs": [
        {
          "output_type": "execute_result",
          "data": {
            "text/plain": [
              "Name    object\n",
              "Age      int64\n",
              "Type    object\n",
              "dtype: object"
            ]
          },
          "metadata": {
            "tags": []
          },
          "execution_count": 201
        }
      ]
    },
    {
      "cell_type": "markdown",
      "metadata": {
        "id": "19-Xx5fJ5Vc6"
      },
      "source": [
        "### Tú turno!\n",
        "\n"
      ]
    },
    {
      "cell_type": "code",
      "metadata": {
        "id": "B2yTSReq5rNF"
      },
      "source": [
        "#Crea una lista de listas que contenga [[Month, Month #(Dec=12, etc.), Season]]\n",
        "#Crea un Pandas DataFrame con las columnas = ['Month', 'Int', 'Season']"
      ],
      "execution_count": null,
      "outputs": []
    },
    {
      "cell_type": "markdown",
      "metadata": {
        "id": "zzL0e8o42SnI"
      },
      "source": [
        "### iloc vs. loc\n",
        "\n",
        "iloc - indexación basada en la posición (el índice siempre comienza con 0)\n",
        "\n",
        "loc - indexación basada en etiquetas\n",
        "\n",
        "Si no especifica índices, entonces iloc y loc serán iguales"
      ]
    },
    {
      "cell_type": "code",
      "metadata": {
        "colab": {
          "base_uri": "https://localhost:8080/",
          "height": 85
        },
        "id": "ArujG5zh1wBg",
        "outputId": "69ff8855-9acc-4616-920a-a86706196d92"
      },
      "source": [
        "pet_df.iloc[0]"
      ],
      "execution_count": null,
      "outputs": [
        {
          "output_type": "execute_result",
          "data": {
            "text/plain": [
              "Name    Blain\n",
              "Age        10\n",
              "Type      Dog\n",
              "Name: A, dtype: object"
            ]
          },
          "metadata": {
            "tags": []
          },
          "execution_count": 203
        }
      ]
    },
    {
      "cell_type": "code",
      "metadata": {
        "colab": {
          "base_uri": "https://localhost:8080/",
          "height": 85
        },
        "id": "HgbOmjvF6YRC",
        "outputId": "6d82d0a1-efb7-4ab6-abe4-d98aa831f8d9"
      },
      "source": [
        "pet_df.loc['B']"
      ],
      "execution_count": null,
      "outputs": [
        {
          "output_type": "execute_result",
          "data": {
            "text/plain": [
              "Name    Lucy\n",
              "Age        4\n",
              "Type     Cat\n",
              "Name: B, dtype: object"
            ]
          },
          "metadata": {
            "tags": []
          },
          "execution_count": 204
        }
      ]
    },
    {
      "cell_type": "markdown",
      "metadata": {
        "id": "yG_SFyHL3Qgy"
      },
      "source": [
        "### Aplicar conceptos a un Data Set (conjunto de datos)"
      ]
    },
    {
      "cell_type": "code",
      "metadata": {
        "id": "E5hvBXvKpTlA"
      },
      "source": [
        "#Cargamos los datos de Iris desde Scikit-learn\n",
        "\n",
        "from sklearn.datasets import load_iris \n",
        "iris = load_iris()\n",
        "data = iris.data\n",
        "column_names = iris.feature_names"
      ],
      "execution_count": null,
      "outputs": []
    },
    {
      "cell_type": "code",
      "metadata": {
        "colab": {
          "base_uri": "https://localhost:8080/",
          "height": 85
        },
        "id": "sgzsV9J6FMda",
        "outputId": "36a37468-93df-4f96-ce43-7f51cd05c303"
      },
      "source": [
        "#columna\n",
        "column_names"
      ],
      "execution_count": null,
      "outputs": [
        {
          "output_type": "execute_result",
          "data": {
            "text/plain": [
              "['sepal length (cm)',\n",
              " 'sepal width (cm)',\n",
              " 'petal length (cm)',\n",
              " 'petal width (cm)']"
            ]
          },
          "metadata": {
            "tags": []
          },
          "execution_count": 206
        }
      ]
    },
    {
      "cell_type": "code",
      "metadata": {
        "colab": {
          "base_uri": "https://localhost:8080/",
          "height": 34
        },
        "id": "ZIzFVqaMFW5y",
        "outputId": "1e77ca61-0135-41a0-f927-0e652ff4189d"
      },
      "source": [
        "#fila\n",
        "len(data)"
      ],
      "execution_count": null,
      "outputs": [
        {
          "output_type": "execute_result",
          "data": {
            "text/plain": [
              "150"
            ]
          },
          "metadata": {
            "tags": []
          },
          "execution_count": 207
        }
      ]
    },
    {
      "cell_type": "markdown",
      "metadata": {
        "id": "RM1NE2i5H-Gv"
      },
      "source": [
        "### Slicing Arrays, listas, y Tuplas \n",
        "Slicing index siempre empieza en 0, lo que significa que el primer elemento es [0] y el segundo elemento es [1]."
      ]
    },
    {
      "cell_type": "code",
      "metadata": {
        "colab": {
          "base_uri": "https://localhost:8080/",
          "height": 187
        },
        "id": "7mywcG7W1CEs",
        "outputId": "f6ae3764-8ba5-43f1-b52e-ae56ed26832f"
      },
      "source": [
        "data[:10]"
      ],
      "execution_count": null,
      "outputs": [
        {
          "output_type": "execute_result",
          "data": {
            "text/plain": [
              "array([[5.1, 3.5, 1.4, 0.2],\n",
              "       [4.9, 3. , 1.4, 0.2],\n",
              "       [4.7, 3.2, 1.3, 0.2],\n",
              "       [4.6, 3.1, 1.5, 0.2],\n",
              "       [5. , 3.6, 1.4, 0.2],\n",
              "       [5.4, 3.9, 1.7, 0.4],\n",
              "       [4.6, 3.4, 1.4, 0.3],\n",
              "       [5. , 3.4, 1.5, 0.2],\n",
              "       [4.4, 2.9, 1.4, 0.2],\n",
              "       [4.9, 3.1, 1.5, 0.1]])"
            ]
          },
          "metadata": {
            "tags": []
          },
          "execution_count": 208
        }
      ]
    },
    {
      "cell_type": "code",
      "metadata": {
        "colab": {
          "base_uri": "https://localhost:8080/",
          "height": 68
        },
        "id": "jgmoKauMIW9H",
        "outputId": "7c354cf1-dfe5-4b2e-8aaf-db25ad77b114"
      },
      "source": [
        "data[2:5]"
      ],
      "execution_count": null,
      "outputs": [
        {
          "output_type": "execute_result",
          "data": {
            "text/plain": [
              "array([[4.7, 3.2, 1.3, 0.2],\n",
              "       [4.6, 3.1, 1.5, 0.2],\n",
              "       [5. , 3.6, 1.4, 0.2]])"
            ]
          },
          "metadata": {
            "tags": []
          },
          "execution_count": 209
        }
      ]
    },
    {
      "cell_type": "code",
      "metadata": {
        "colab": {
          "base_uri": "https://localhost:8080/",
          "height": 102
        },
        "id": "WlNUvBPYJSV4",
        "outputId": "02346fcf-e372-4d34-a0b0-60bb1a96832a"
      },
      "source": [
        "data[0:10:2] #intervalos"
      ],
      "execution_count": null,
      "outputs": [
        {
          "output_type": "execute_result",
          "data": {
            "text/plain": [
              "array([[5.1, 3.5, 1.4, 0.2],\n",
              "       [4.7, 3.2, 1.3, 0.2],\n",
              "       [5. , 3.6, 1.4, 0.2],\n",
              "       [4.6, 3.4, 1.4, 0.3],\n",
              "       [4.4, 2.9, 1.4, 0.2]])"
            ]
          },
          "metadata": {
            "tags": []
          },
          "execution_count": 210
        }
      ]
    },
    {
      "cell_type": "code",
      "metadata": {
        "colab": {
          "base_uri": "https://localhost:8080/",
          "height": 419
        },
        "id": "avGtQUI21F3K",
        "outputId": "74c245a7-c221-475e-9e33-9e92e1ddbef8"
      },
      "source": [
        "#Convertir array en un Pandas DataFrame\n",
        "df = pd.DataFrame(data, columns = column_names)\n",
        "df"
      ],
      "execution_count": null,
      "outputs": [
        {
          "output_type": "execute_result",
          "data": {
            "text/html": [
              "<div>\n",
              "<style scoped>\n",
              "    .dataframe tbody tr th:only-of-type {\n",
              "        vertical-align: middle;\n",
              "    }\n",
              "\n",
              "    .dataframe tbody tr th {\n",
              "        vertical-align: top;\n",
              "    }\n",
              "\n",
              "    .dataframe thead th {\n",
              "        text-align: right;\n",
              "    }\n",
              "</style>\n",
              "<table border=\"1\" class=\"dataframe\">\n",
              "  <thead>\n",
              "    <tr style=\"text-align: right;\">\n",
              "      <th></th>\n",
              "      <th>sepal length (cm)</th>\n",
              "      <th>sepal width (cm)</th>\n",
              "      <th>petal length (cm)</th>\n",
              "      <th>petal width (cm)</th>\n",
              "    </tr>\n",
              "  </thead>\n",
              "  <tbody>\n",
              "    <tr>\n",
              "      <th>0</th>\n",
              "      <td>5.1</td>\n",
              "      <td>3.5</td>\n",
              "      <td>1.4</td>\n",
              "      <td>0.2</td>\n",
              "    </tr>\n",
              "    <tr>\n",
              "      <th>1</th>\n",
              "      <td>4.9</td>\n",
              "      <td>3.0</td>\n",
              "      <td>1.4</td>\n",
              "      <td>0.2</td>\n",
              "    </tr>\n",
              "    <tr>\n",
              "      <th>2</th>\n",
              "      <td>4.7</td>\n",
              "      <td>3.2</td>\n",
              "      <td>1.3</td>\n",
              "      <td>0.2</td>\n",
              "    </tr>\n",
              "    <tr>\n",
              "      <th>3</th>\n",
              "      <td>4.6</td>\n",
              "      <td>3.1</td>\n",
              "      <td>1.5</td>\n",
              "      <td>0.2</td>\n",
              "    </tr>\n",
              "    <tr>\n",
              "      <th>4</th>\n",
              "      <td>5.0</td>\n",
              "      <td>3.6</td>\n",
              "      <td>1.4</td>\n",
              "      <td>0.2</td>\n",
              "    </tr>\n",
              "    <tr>\n",
              "      <th>...</th>\n",
              "      <td>...</td>\n",
              "      <td>...</td>\n",
              "      <td>...</td>\n",
              "      <td>...</td>\n",
              "    </tr>\n",
              "    <tr>\n",
              "      <th>145</th>\n",
              "      <td>6.7</td>\n",
              "      <td>3.0</td>\n",
              "      <td>5.2</td>\n",
              "      <td>2.3</td>\n",
              "    </tr>\n",
              "    <tr>\n",
              "      <th>146</th>\n",
              "      <td>6.3</td>\n",
              "      <td>2.5</td>\n",
              "      <td>5.0</td>\n",
              "      <td>1.9</td>\n",
              "    </tr>\n",
              "    <tr>\n",
              "      <th>147</th>\n",
              "      <td>6.5</td>\n",
              "      <td>3.0</td>\n",
              "      <td>5.2</td>\n",
              "      <td>2.0</td>\n",
              "    </tr>\n",
              "    <tr>\n",
              "      <th>148</th>\n",
              "      <td>6.2</td>\n",
              "      <td>3.4</td>\n",
              "      <td>5.4</td>\n",
              "      <td>2.3</td>\n",
              "    </tr>\n",
              "    <tr>\n",
              "      <th>149</th>\n",
              "      <td>5.9</td>\n",
              "      <td>3.0</td>\n",
              "      <td>5.1</td>\n",
              "      <td>1.8</td>\n",
              "    </tr>\n",
              "  </tbody>\n",
              "</table>\n",
              "<p>150 rows × 4 columns</p>\n",
              "</div>"
            ],
            "text/plain": [
              "     sepal length (cm)  sepal width (cm)  petal length (cm)  petal width (cm)\n",
              "0                  5.1               3.5                1.4               0.2\n",
              "1                  4.9               3.0                1.4               0.2\n",
              "2                  4.7               3.2                1.3               0.2\n",
              "3                  4.6               3.1                1.5               0.2\n",
              "4                  5.0               3.6                1.4               0.2\n",
              "..                 ...               ...                ...               ...\n",
              "145                6.7               3.0                5.2               2.3\n",
              "146                6.3               2.5                5.0               1.9\n",
              "147                6.5               3.0                5.2               2.0\n",
              "148                6.2               3.4                5.4               2.3\n",
              "149                5.9               3.0                5.1               1.8\n",
              "\n",
              "[150 rows x 4 columns]"
            ]
          },
          "metadata": {
            "tags": []
          },
          "execution_count": 211
        }
      ]
    },
    {
      "cell_type": "code",
      "metadata": {
        "colab": {
          "base_uri": "https://localhost:8080/",
          "height": 359
        },
        "id": "4_0aflsH4LHQ",
        "outputId": "5d140a97-f29a-410c-985f-eec160ab0025"
      },
      "source": [
        "df.head(10)"
      ],
      "execution_count": null,
      "outputs": [
        {
          "output_type": "execute_result",
          "data": {
            "text/html": [
              "<div>\n",
              "<style scoped>\n",
              "    .dataframe tbody tr th:only-of-type {\n",
              "        vertical-align: middle;\n",
              "    }\n",
              "\n",
              "    .dataframe tbody tr th {\n",
              "        vertical-align: top;\n",
              "    }\n",
              "\n",
              "    .dataframe thead th {\n",
              "        text-align: right;\n",
              "    }\n",
              "</style>\n",
              "<table border=\"1\" class=\"dataframe\">\n",
              "  <thead>\n",
              "    <tr style=\"text-align: right;\">\n",
              "      <th></th>\n",
              "      <th>sepal length (cm)</th>\n",
              "      <th>sepal width (cm)</th>\n",
              "      <th>petal length (cm)</th>\n",
              "      <th>petal width (cm)</th>\n",
              "    </tr>\n",
              "  </thead>\n",
              "  <tbody>\n",
              "    <tr>\n",
              "      <th>0</th>\n",
              "      <td>5.1</td>\n",
              "      <td>3.5</td>\n",
              "      <td>1.4</td>\n",
              "      <td>0.2</td>\n",
              "    </tr>\n",
              "    <tr>\n",
              "      <th>1</th>\n",
              "      <td>4.9</td>\n",
              "      <td>3.0</td>\n",
              "      <td>1.4</td>\n",
              "      <td>0.2</td>\n",
              "    </tr>\n",
              "    <tr>\n",
              "      <th>2</th>\n",
              "      <td>4.7</td>\n",
              "      <td>3.2</td>\n",
              "      <td>1.3</td>\n",
              "      <td>0.2</td>\n",
              "    </tr>\n",
              "    <tr>\n",
              "      <th>3</th>\n",
              "      <td>4.6</td>\n",
              "      <td>3.1</td>\n",
              "      <td>1.5</td>\n",
              "      <td>0.2</td>\n",
              "    </tr>\n",
              "    <tr>\n",
              "      <th>4</th>\n",
              "      <td>5.0</td>\n",
              "      <td>3.6</td>\n",
              "      <td>1.4</td>\n",
              "      <td>0.2</td>\n",
              "    </tr>\n",
              "    <tr>\n",
              "      <th>5</th>\n",
              "      <td>5.4</td>\n",
              "      <td>3.9</td>\n",
              "      <td>1.7</td>\n",
              "      <td>0.4</td>\n",
              "    </tr>\n",
              "    <tr>\n",
              "      <th>6</th>\n",
              "      <td>4.6</td>\n",
              "      <td>3.4</td>\n",
              "      <td>1.4</td>\n",
              "      <td>0.3</td>\n",
              "    </tr>\n",
              "    <tr>\n",
              "      <th>7</th>\n",
              "      <td>5.0</td>\n",
              "      <td>3.4</td>\n",
              "      <td>1.5</td>\n",
              "      <td>0.2</td>\n",
              "    </tr>\n",
              "    <tr>\n",
              "      <th>8</th>\n",
              "      <td>4.4</td>\n",
              "      <td>2.9</td>\n",
              "      <td>1.4</td>\n",
              "      <td>0.2</td>\n",
              "    </tr>\n",
              "    <tr>\n",
              "      <th>9</th>\n",
              "      <td>4.9</td>\n",
              "      <td>3.1</td>\n",
              "      <td>1.5</td>\n",
              "      <td>0.1</td>\n",
              "    </tr>\n",
              "  </tbody>\n",
              "</table>\n",
              "</div>"
            ],
            "text/plain": [
              "   sepal length (cm)  sepal width (cm)  petal length (cm)  petal width (cm)\n",
              "0                5.1               3.5                1.4               0.2\n",
              "1                4.9               3.0                1.4               0.2\n",
              "2                4.7               3.2                1.3               0.2\n",
              "3                4.6               3.1                1.5               0.2\n",
              "4                5.0               3.6                1.4               0.2\n",
              "5                5.4               3.9                1.7               0.4\n",
              "6                4.6               3.4                1.4               0.3\n",
              "7                5.0               3.4                1.5               0.2\n",
              "8                4.4               2.9                1.4               0.2\n",
              "9                4.9               3.1                1.5               0.1"
            ]
          },
          "metadata": {
            "tags": []
          },
          "execution_count": 212
        }
      ]
    },
    {
      "cell_type": "code",
      "metadata": {
        "colab": {
          "base_uri": "https://localhost:8080/",
          "height": 204
        },
        "id": "Ou_UNrjN4MhY",
        "outputId": "de6fc35e-41b6-4a4e-d0c2-c428827f12de"
      },
      "source": [
        "df.tail()"
      ],
      "execution_count": null,
      "outputs": [
        {
          "output_type": "execute_result",
          "data": {
            "text/html": [
              "<div>\n",
              "<style scoped>\n",
              "    .dataframe tbody tr th:only-of-type {\n",
              "        vertical-align: middle;\n",
              "    }\n",
              "\n",
              "    .dataframe tbody tr th {\n",
              "        vertical-align: top;\n",
              "    }\n",
              "\n",
              "    .dataframe thead th {\n",
              "        text-align: right;\n",
              "    }\n",
              "</style>\n",
              "<table border=\"1\" class=\"dataframe\">\n",
              "  <thead>\n",
              "    <tr style=\"text-align: right;\">\n",
              "      <th></th>\n",
              "      <th>sepal length (cm)</th>\n",
              "      <th>sepal width (cm)</th>\n",
              "      <th>petal length (cm)</th>\n",
              "      <th>petal width (cm)</th>\n",
              "    </tr>\n",
              "  </thead>\n",
              "  <tbody>\n",
              "    <tr>\n",
              "      <th>145</th>\n",
              "      <td>6.7</td>\n",
              "      <td>3.0</td>\n",
              "      <td>5.2</td>\n",
              "      <td>2.3</td>\n",
              "    </tr>\n",
              "    <tr>\n",
              "      <th>146</th>\n",
              "      <td>6.3</td>\n",
              "      <td>2.5</td>\n",
              "      <td>5.0</td>\n",
              "      <td>1.9</td>\n",
              "    </tr>\n",
              "    <tr>\n",
              "      <th>147</th>\n",
              "      <td>6.5</td>\n",
              "      <td>3.0</td>\n",
              "      <td>5.2</td>\n",
              "      <td>2.0</td>\n",
              "    </tr>\n",
              "    <tr>\n",
              "      <th>148</th>\n",
              "      <td>6.2</td>\n",
              "      <td>3.4</td>\n",
              "      <td>5.4</td>\n",
              "      <td>2.3</td>\n",
              "    </tr>\n",
              "    <tr>\n",
              "      <th>149</th>\n",
              "      <td>5.9</td>\n",
              "      <td>3.0</td>\n",
              "      <td>5.1</td>\n",
              "      <td>1.8</td>\n",
              "    </tr>\n",
              "  </tbody>\n",
              "</table>\n",
              "</div>"
            ],
            "text/plain": [
              "     sepal length (cm)  sepal width (cm)  petal length (cm)  petal width (cm)\n",
              "145                6.7               3.0                5.2               2.3\n",
              "146                6.3               2.5                5.0               1.9\n",
              "147                6.5               3.0                5.2               2.0\n",
              "148                6.2               3.4                5.4               2.3\n",
              "149                5.9               3.0                5.1               1.8"
            ]
          },
          "metadata": {
            "tags": []
          },
          "execution_count": 213
        }
      ]
    },
    {
      "cell_type": "code",
      "metadata": {
        "colab": {
          "base_uri": "https://localhost:8080/",
          "height": 297
        },
        "id": "dU_qVY6z3pb-",
        "outputId": "6cfe6d5d-816d-4d0d-cb65-bcb5dd256bdd"
      },
      "source": [
        "df.describe()"
      ],
      "execution_count": null,
      "outputs": [
        {
          "output_type": "execute_result",
          "data": {
            "text/html": [
              "<div>\n",
              "<style scoped>\n",
              "    .dataframe tbody tr th:only-of-type {\n",
              "        vertical-align: middle;\n",
              "    }\n",
              "\n",
              "    .dataframe tbody tr th {\n",
              "        vertical-align: top;\n",
              "    }\n",
              "\n",
              "    .dataframe thead th {\n",
              "        text-align: right;\n",
              "    }\n",
              "</style>\n",
              "<table border=\"1\" class=\"dataframe\">\n",
              "  <thead>\n",
              "    <tr style=\"text-align: right;\">\n",
              "      <th></th>\n",
              "      <th>sepal length (cm)</th>\n",
              "      <th>sepal width (cm)</th>\n",
              "      <th>petal length (cm)</th>\n",
              "      <th>petal width (cm)</th>\n",
              "    </tr>\n",
              "  </thead>\n",
              "  <tbody>\n",
              "    <tr>\n",
              "      <th>count</th>\n",
              "      <td>150.000000</td>\n",
              "      <td>150.000000</td>\n",
              "      <td>150.000000</td>\n",
              "      <td>150.000000</td>\n",
              "    </tr>\n",
              "    <tr>\n",
              "      <th>mean</th>\n",
              "      <td>5.843333</td>\n",
              "      <td>3.057333</td>\n",
              "      <td>3.758000</td>\n",
              "      <td>1.199333</td>\n",
              "    </tr>\n",
              "    <tr>\n",
              "      <th>std</th>\n",
              "      <td>0.828066</td>\n",
              "      <td>0.435866</td>\n",
              "      <td>1.765298</td>\n",
              "      <td>0.762238</td>\n",
              "    </tr>\n",
              "    <tr>\n",
              "      <th>min</th>\n",
              "      <td>4.300000</td>\n",
              "      <td>2.000000</td>\n",
              "      <td>1.000000</td>\n",
              "      <td>0.100000</td>\n",
              "    </tr>\n",
              "    <tr>\n",
              "      <th>25%</th>\n",
              "      <td>5.100000</td>\n",
              "      <td>2.800000</td>\n",
              "      <td>1.600000</td>\n",
              "      <td>0.300000</td>\n",
              "    </tr>\n",
              "    <tr>\n",
              "      <th>50%</th>\n",
              "      <td>5.800000</td>\n",
              "      <td>3.000000</td>\n",
              "      <td>4.350000</td>\n",
              "      <td>1.300000</td>\n",
              "    </tr>\n",
              "    <tr>\n",
              "      <th>75%</th>\n",
              "      <td>6.400000</td>\n",
              "      <td>3.300000</td>\n",
              "      <td>5.100000</td>\n",
              "      <td>1.800000</td>\n",
              "    </tr>\n",
              "    <tr>\n",
              "      <th>max</th>\n",
              "      <td>7.900000</td>\n",
              "      <td>4.400000</td>\n",
              "      <td>6.900000</td>\n",
              "      <td>2.500000</td>\n",
              "    </tr>\n",
              "  </tbody>\n",
              "</table>\n",
              "</div>"
            ],
            "text/plain": [
              "       sepal length (cm)  sepal width (cm)  petal length (cm)  \\\n",
              "count         150.000000        150.000000         150.000000   \n",
              "mean            5.843333          3.057333           3.758000   \n",
              "std             0.828066          0.435866           1.765298   \n",
              "min             4.300000          2.000000           1.000000   \n",
              "25%             5.100000          2.800000           1.600000   \n",
              "50%             5.800000          3.000000           4.350000   \n",
              "75%             6.400000          3.300000           5.100000   \n",
              "max             7.900000          4.400000           6.900000   \n",
              "\n",
              "       petal width (cm)  \n",
              "count        150.000000  \n",
              "mean           1.199333  \n",
              "std            0.762238  \n",
              "min            0.100000  \n",
              "25%            0.300000  \n",
              "50%            1.300000  \n",
              "75%            1.800000  \n",
              "max            2.500000  "
            ]
          },
          "metadata": {
            "tags": []
          },
          "execution_count": 214
        }
      ]
    },
    {
      "cell_type": "code",
      "metadata": {
        "colab": {
          "base_uri": "https://localhost:8080/",
          "height": 170
        },
        "id": "Ew2X5wuO4Fhz",
        "outputId": "74b05db3-183b-422c-9cd8-c9ab46b58f10"
      },
      "source": [
        "df.info()"
      ],
      "execution_count": null,
      "outputs": [
        {
          "output_type": "stream",
          "text": [
            "<class 'pandas.core.frame.DataFrame'>\n",
            "RangeIndex: 150 entries, 0 to 149\n",
            "Data columns (total 4 columns):\n",
            " #   Column             Non-Null Count  Dtype  \n",
            "---  ------             --------------  -----  \n",
            " 0   sepal length (cm)  150 non-null    float64\n",
            " 1   sepal width (cm)   150 non-null    float64\n",
            " 2   petal length (cm)  150 non-null    float64\n",
            " 3   petal width (cm)   150 non-null    float64\n",
            "dtypes: float64(4)\n",
            "memory usage: 4.8 KB\n"
          ],
          "name": "stdout"
        }
      ]
    },
    {
      "cell_type": "code",
      "metadata": {
        "colab": {
          "base_uri": "https://localhost:8080/",
          "height": 359
        },
        "id": "42Em34Qb1aK_",
        "outputId": "f204116b-d394-4689-e3e3-023b2414b9c3"
      },
      "source": [
        "df.loc[140:]"
      ],
      "execution_count": null,
      "outputs": [
        {
          "output_type": "execute_result",
          "data": {
            "text/html": [
              "<div>\n",
              "<style scoped>\n",
              "    .dataframe tbody tr th:only-of-type {\n",
              "        vertical-align: middle;\n",
              "    }\n",
              "\n",
              "    .dataframe tbody tr th {\n",
              "        vertical-align: top;\n",
              "    }\n",
              "\n",
              "    .dataframe thead th {\n",
              "        text-align: right;\n",
              "    }\n",
              "</style>\n",
              "<table border=\"1\" class=\"dataframe\">\n",
              "  <thead>\n",
              "    <tr style=\"text-align: right;\">\n",
              "      <th></th>\n",
              "      <th>sepal length (cm)</th>\n",
              "      <th>sepal width (cm)</th>\n",
              "      <th>petal length (cm)</th>\n",
              "      <th>petal width (cm)</th>\n",
              "    </tr>\n",
              "  </thead>\n",
              "  <tbody>\n",
              "    <tr>\n",
              "      <th>140</th>\n",
              "      <td>6.7</td>\n",
              "      <td>3.1</td>\n",
              "      <td>5.6</td>\n",
              "      <td>2.4</td>\n",
              "    </tr>\n",
              "    <tr>\n",
              "      <th>141</th>\n",
              "      <td>6.9</td>\n",
              "      <td>3.1</td>\n",
              "      <td>5.1</td>\n",
              "      <td>2.3</td>\n",
              "    </tr>\n",
              "    <tr>\n",
              "      <th>142</th>\n",
              "      <td>5.8</td>\n",
              "      <td>2.7</td>\n",
              "      <td>5.1</td>\n",
              "      <td>1.9</td>\n",
              "    </tr>\n",
              "    <tr>\n",
              "      <th>143</th>\n",
              "      <td>6.8</td>\n",
              "      <td>3.2</td>\n",
              "      <td>5.9</td>\n",
              "      <td>2.3</td>\n",
              "    </tr>\n",
              "    <tr>\n",
              "      <th>144</th>\n",
              "      <td>6.7</td>\n",
              "      <td>3.3</td>\n",
              "      <td>5.7</td>\n",
              "      <td>2.5</td>\n",
              "    </tr>\n",
              "    <tr>\n",
              "      <th>145</th>\n",
              "      <td>6.7</td>\n",
              "      <td>3.0</td>\n",
              "      <td>5.2</td>\n",
              "      <td>2.3</td>\n",
              "    </tr>\n",
              "    <tr>\n",
              "      <th>146</th>\n",
              "      <td>6.3</td>\n",
              "      <td>2.5</td>\n",
              "      <td>5.0</td>\n",
              "      <td>1.9</td>\n",
              "    </tr>\n",
              "    <tr>\n",
              "      <th>147</th>\n",
              "      <td>6.5</td>\n",
              "      <td>3.0</td>\n",
              "      <td>5.2</td>\n",
              "      <td>2.0</td>\n",
              "    </tr>\n",
              "    <tr>\n",
              "      <th>148</th>\n",
              "      <td>6.2</td>\n",
              "      <td>3.4</td>\n",
              "      <td>5.4</td>\n",
              "      <td>2.3</td>\n",
              "    </tr>\n",
              "    <tr>\n",
              "      <th>149</th>\n",
              "      <td>5.9</td>\n",
              "      <td>3.0</td>\n",
              "      <td>5.1</td>\n",
              "      <td>1.8</td>\n",
              "    </tr>\n",
              "  </tbody>\n",
              "</table>\n",
              "</div>"
            ],
            "text/plain": [
              "     sepal length (cm)  sepal width (cm)  petal length (cm)  petal width (cm)\n",
              "140                6.7               3.1                5.6               2.4\n",
              "141                6.9               3.1                5.1               2.3\n",
              "142                5.8               2.7                5.1               1.9\n",
              "143                6.8               3.2                5.9               2.3\n",
              "144                6.7               3.3                5.7               2.5\n",
              "145                6.7               3.0                5.2               2.3\n",
              "146                6.3               2.5                5.0               1.9\n",
              "147                6.5               3.0                5.2               2.0\n",
              "148                6.2               3.4                5.4               2.3\n",
              "149                5.9               3.0                5.1               1.8"
            ]
          },
          "metadata": {
            "tags": []
          },
          "execution_count": 216
        }
      ]
    },
    {
      "cell_type": "code",
      "metadata": {
        "colab": {
          "base_uri": "https://localhost:8080/",
          "height": 111
        },
        "id": "kgT9wGm_DpAg",
        "outputId": "ed515edf-0619-40d4-9d5c-b8188aff5198"
      },
      "source": [
        "df.mode()"
      ],
      "execution_count": null,
      "outputs": [
        {
          "output_type": "execute_result",
          "data": {
            "text/html": [
              "<div>\n",
              "<style scoped>\n",
              "    .dataframe tbody tr th:only-of-type {\n",
              "        vertical-align: middle;\n",
              "    }\n",
              "\n",
              "    .dataframe tbody tr th {\n",
              "        vertical-align: top;\n",
              "    }\n",
              "\n",
              "    .dataframe thead th {\n",
              "        text-align: right;\n",
              "    }\n",
              "</style>\n",
              "<table border=\"1\" class=\"dataframe\">\n",
              "  <thead>\n",
              "    <tr style=\"text-align: right;\">\n",
              "      <th></th>\n",
              "      <th>sepal length (cm)</th>\n",
              "      <th>sepal width (cm)</th>\n",
              "      <th>petal length (cm)</th>\n",
              "      <th>petal width (cm)</th>\n",
              "    </tr>\n",
              "  </thead>\n",
              "  <tbody>\n",
              "    <tr>\n",
              "      <th>0</th>\n",
              "      <td>5.0</td>\n",
              "      <td>3.0</td>\n",
              "      <td>1.4</td>\n",
              "      <td>0.2</td>\n",
              "    </tr>\n",
              "    <tr>\n",
              "      <th>1</th>\n",
              "      <td>NaN</td>\n",
              "      <td>NaN</td>\n",
              "      <td>1.5</td>\n",
              "      <td>NaN</td>\n",
              "    </tr>\n",
              "  </tbody>\n",
              "</table>\n",
              "</div>"
            ],
            "text/plain": [
              "   sepal length (cm)  sepal width (cm)  petal length (cm)  petal width (cm)\n",
              "0                5.0               3.0                1.4               0.2\n",
              "1                NaN               NaN                1.5               NaN"
            ]
          },
          "metadata": {
            "tags": []
          },
          "execution_count": 217
        }
      ]
    },
    {
      "cell_type": "code",
      "metadata": {
        "colab": {
          "base_uri": "https://localhost:8080/",
          "height": 102
        },
        "id": "YCDWGOwoDq1p",
        "outputId": "6ed7a167-d676-4f60-d612-03e736706bb2"
      },
      "source": [
        "df.mean()"
      ],
      "execution_count": null,
      "outputs": [
        {
          "output_type": "execute_result",
          "data": {
            "text/plain": [
              "sepal length (cm)    5.843333\n",
              "sepal width (cm)     3.057333\n",
              "petal length (cm)    3.758000\n",
              "petal width (cm)     1.199333\n",
              "dtype: float64"
            ]
          },
          "metadata": {
            "tags": []
          },
          "execution_count": 218
        }
      ]
    },
    {
      "cell_type": "code",
      "metadata": {
        "colab": {
          "base_uri": "https://localhost:8080/",
          "height": 34
        },
        "id": "63dyAUo-D9n3",
        "outputId": "913cf869-4a5c-4495-902e-a8d463df3c5b"
      },
      "source": [
        "df['sepal length (cm)'].mean()"
      ],
      "execution_count": null,
      "outputs": [
        {
          "output_type": "execute_result",
          "data": {
            "text/plain": [
              "5.843333333333334"
            ]
          },
          "metadata": {
            "tags": []
          },
          "execution_count": 219
        }
      ]
    },
    {
      "cell_type": "markdown",
      "metadata": {
        "id": "JpcrPvygFutK"
      },
      "source": [
        "### Tú turno!\n",
        "\n",
        "Encuentra la media de petal width"
      ]
    },
    {
      "cell_type": "code",
      "metadata": {
        "colab": {
          "base_uri": "https://localhost:8080/",
          "height": 793
        },
        "id": "5mx_gEcE4G9z",
        "outputId": "bac93877-cb33-43b7-fcf4-07356695128e"
      },
      "source": [
        "df.groupby(['sepal width (cm)']).mean()"
      ],
      "execution_count": null,
      "outputs": [
        {
          "output_type": "execute_result",
          "data": {
            "text/html": [
              "<div>\n",
              "<style scoped>\n",
              "    .dataframe tbody tr th:only-of-type {\n",
              "        vertical-align: middle;\n",
              "    }\n",
              "\n",
              "    .dataframe tbody tr th {\n",
              "        vertical-align: top;\n",
              "    }\n",
              "\n",
              "    .dataframe thead th {\n",
              "        text-align: right;\n",
              "    }\n",
              "</style>\n",
              "<table border=\"1\" class=\"dataframe\">\n",
              "  <thead>\n",
              "    <tr style=\"text-align: right;\">\n",
              "      <th></th>\n",
              "      <th>sepal length (cm)</th>\n",
              "      <th>petal length (cm)</th>\n",
              "      <th>petal width (cm)</th>\n",
              "    </tr>\n",
              "    <tr>\n",
              "      <th>sepal width (cm)</th>\n",
              "      <th></th>\n",
              "      <th></th>\n",
              "      <th></th>\n",
              "    </tr>\n",
              "  </thead>\n",
              "  <tbody>\n",
              "    <tr>\n",
              "      <th>2.0</th>\n",
              "      <td>5.000000</td>\n",
              "      <td>3.500000</td>\n",
              "      <td>1.000000</td>\n",
              "    </tr>\n",
              "    <tr>\n",
              "      <th>2.2</th>\n",
              "      <td>6.066667</td>\n",
              "      <td>4.500000</td>\n",
              "      <td>1.333333</td>\n",
              "    </tr>\n",
              "    <tr>\n",
              "      <th>2.3</th>\n",
              "      <td>5.325000</td>\n",
              "      <td>3.250000</td>\n",
              "      <td>0.975000</td>\n",
              "    </tr>\n",
              "    <tr>\n",
              "      <th>2.4</th>\n",
              "      <td>5.300000</td>\n",
              "      <td>3.600000</td>\n",
              "      <td>1.033333</td>\n",
              "    </tr>\n",
              "    <tr>\n",
              "      <th>2.5</th>\n",
              "      <td>5.762500</td>\n",
              "      <td>4.512500</td>\n",
              "      <td>1.550000</td>\n",
              "    </tr>\n",
              "    <tr>\n",
              "      <th>2.6</th>\n",
              "      <td>6.160000</td>\n",
              "      <td>4.880000</td>\n",
              "      <td>1.420000</td>\n",
              "    </tr>\n",
              "    <tr>\n",
              "      <th>2.7</th>\n",
              "      <td>5.855556</td>\n",
              "      <td>4.622222</td>\n",
              "      <td>1.555556</td>\n",
              "    </tr>\n",
              "    <tr>\n",
              "      <th>2.8</th>\n",
              "      <td>6.335714</td>\n",
              "      <td>5.042857</td>\n",
              "      <td>1.707143</td>\n",
              "    </tr>\n",
              "    <tr>\n",
              "      <th>2.9</th>\n",
              "      <td>6.060000</td>\n",
              "      <td>4.350000</td>\n",
              "      <td>1.320000</td>\n",
              "    </tr>\n",
              "    <tr>\n",
              "      <th>3.0</th>\n",
              "      <td>6.015385</td>\n",
              "      <td>4.234615</td>\n",
              "      <td>1.403846</td>\n",
              "    </tr>\n",
              "    <tr>\n",
              "      <th>3.1</th>\n",
              "      <td>6.036364</td>\n",
              "      <td>3.790909</td>\n",
              "      <td>1.245455</td>\n",
              "    </tr>\n",
              "    <tr>\n",
              "      <th>3.2</th>\n",
              "      <td>5.884615</td>\n",
              "      <td>3.753846</td>\n",
              "      <td>1.261538</td>\n",
              "    </tr>\n",
              "    <tr>\n",
              "      <th>3.3</th>\n",
              "      <td>6.016667</td>\n",
              "      <td>4.200000</td>\n",
              "      <td>1.566667</td>\n",
              "    </tr>\n",
              "    <tr>\n",
              "      <th>3.4</th>\n",
              "      <td>5.316667</td>\n",
              "      <td>2.466667</td>\n",
              "      <td>0.716667</td>\n",
              "    </tr>\n",
              "    <tr>\n",
              "      <th>3.5</th>\n",
              "      <td>5.150000</td>\n",
              "      <td>1.416667</td>\n",
              "      <td>0.300000</td>\n",
              "    </tr>\n",
              "    <tr>\n",
              "      <th>3.6</th>\n",
              "      <td>5.425000</td>\n",
              "      <td>2.475000</td>\n",
              "      <td>0.750000</td>\n",
              "    </tr>\n",
              "    <tr>\n",
              "      <th>3.7</th>\n",
              "      <td>5.266667</td>\n",
              "      <td>1.500000</td>\n",
              "      <td>0.266667</td>\n",
              "    </tr>\n",
              "    <tr>\n",
              "      <th>3.8</th>\n",
              "      <td>6.100000</td>\n",
              "      <td>3.300000</td>\n",
              "      <td>0.900000</td>\n",
              "    </tr>\n",
              "    <tr>\n",
              "      <th>3.9</th>\n",
              "      <td>5.400000</td>\n",
              "      <td>1.500000</td>\n",
              "      <td>0.400000</td>\n",
              "    </tr>\n",
              "    <tr>\n",
              "      <th>4.0</th>\n",
              "      <td>5.800000</td>\n",
              "      <td>1.200000</td>\n",
              "      <td>0.200000</td>\n",
              "    </tr>\n",
              "    <tr>\n",
              "      <th>4.1</th>\n",
              "      <td>5.200000</td>\n",
              "      <td>1.500000</td>\n",
              "      <td>0.100000</td>\n",
              "    </tr>\n",
              "    <tr>\n",
              "      <th>4.2</th>\n",
              "      <td>5.500000</td>\n",
              "      <td>1.400000</td>\n",
              "      <td>0.200000</td>\n",
              "    </tr>\n",
              "    <tr>\n",
              "      <th>4.4</th>\n",
              "      <td>5.700000</td>\n",
              "      <td>1.500000</td>\n",
              "      <td>0.400000</td>\n",
              "    </tr>\n",
              "  </tbody>\n",
              "</table>\n",
              "</div>"
            ],
            "text/plain": [
              "                  sepal length (cm)  petal length (cm)  petal width (cm)\n",
              "sepal width (cm)                                                        \n",
              "2.0                        5.000000           3.500000          1.000000\n",
              "2.2                        6.066667           4.500000          1.333333\n",
              "2.3                        5.325000           3.250000          0.975000\n",
              "2.4                        5.300000           3.600000          1.033333\n",
              "2.5                        5.762500           4.512500          1.550000\n",
              "2.6                        6.160000           4.880000          1.420000\n",
              "2.7                        5.855556           4.622222          1.555556\n",
              "2.8                        6.335714           5.042857          1.707143\n",
              "2.9                        6.060000           4.350000          1.320000\n",
              "3.0                        6.015385           4.234615          1.403846\n",
              "3.1                        6.036364           3.790909          1.245455\n",
              "3.2                        5.884615           3.753846          1.261538\n",
              "3.3                        6.016667           4.200000          1.566667\n",
              "3.4                        5.316667           2.466667          0.716667\n",
              "3.5                        5.150000           1.416667          0.300000\n",
              "3.6                        5.425000           2.475000          0.750000\n",
              "3.7                        5.266667           1.500000          0.266667\n",
              "3.8                        6.100000           3.300000          0.900000\n",
              "3.9                        5.400000           1.500000          0.400000\n",
              "4.0                        5.800000           1.200000          0.200000\n",
              "4.1                        5.200000           1.500000          0.100000\n",
              "4.2                        5.500000           1.400000          0.200000\n",
              "4.4                        5.700000           1.500000          0.400000"
            ]
          },
          "metadata": {
            "tags": []
          },
          "execution_count": 220
        }
      ]
    },
    {
      "cell_type": "markdown",
      "metadata": {
        "id": "0G_Np47mKyR1"
      },
      "source": [
        "### Tú Turno! "
      ]
    },
    {
      "cell_type": "code",
      "metadata": {
        "id": "kgOndqMWK7a4"
      },
      "source": [
        "from sklearn.datasets import load_boston\n",
        "boston = load_boston()\n",
        "data = boston.data\n",
        "column_names = boston.feature_names"
      ],
      "execution_count": null,
      "outputs": []
    },
    {
      "cell_type": "code",
      "metadata": {
        "colab": {
          "base_uri": "https://localhost:8080/",
          "height": 238
        },
        "id": "aAKfit9ZK8KA",
        "outputId": "df22b9d7-cb70-4b18-92f0-726da2b70337"
      },
      "source": [
        "data"
      ],
      "execution_count": null,
      "outputs": [
        {
          "output_type": "execute_result",
          "data": {
            "text/plain": [
              "array([[6.3200e-03, 1.8000e+01, 2.3100e+00, ..., 1.5300e+01, 3.9690e+02,\n",
              "        4.9800e+00],\n",
              "       [2.7310e-02, 0.0000e+00, 7.0700e+00, ..., 1.7800e+01, 3.9690e+02,\n",
              "        9.1400e+00],\n",
              "       [2.7290e-02, 0.0000e+00, 7.0700e+00, ..., 1.7800e+01, 3.9283e+02,\n",
              "        4.0300e+00],\n",
              "       ...,\n",
              "       [6.0760e-02, 0.0000e+00, 1.1930e+01, ..., 2.1000e+01, 3.9690e+02,\n",
              "        5.6400e+00],\n",
              "       [1.0959e-01, 0.0000e+00, 1.1930e+01, ..., 2.1000e+01, 3.9345e+02,\n",
              "        6.4800e+00],\n",
              "       [4.7410e-02, 0.0000e+00, 1.1930e+01, ..., 2.1000e+01, 3.9690e+02,\n",
              "        7.8800e+00]])"
            ]
          },
          "metadata": {
            "tags": []
          },
          "execution_count": 222
        }
      ]
    },
    {
      "cell_type": "code",
      "metadata": {
        "colab": {
          "base_uri": "https://localhost:8080/",
          "height": 419
        },
        "id": "Ng6omMvRLe9P",
        "outputId": "497dfed2-04b7-4e62-bb3e-155af84d1635"
      },
      "source": [
        "df = pd.DataFrame(data, columns = column_names)\n",
        "df"
      ],
      "execution_count": null,
      "outputs": [
        {
          "output_type": "execute_result",
          "data": {
            "text/html": [
              "<div>\n",
              "<style scoped>\n",
              "    .dataframe tbody tr th:only-of-type {\n",
              "        vertical-align: middle;\n",
              "    }\n",
              "\n",
              "    .dataframe tbody tr th {\n",
              "        vertical-align: top;\n",
              "    }\n",
              "\n",
              "    .dataframe thead th {\n",
              "        text-align: right;\n",
              "    }\n",
              "</style>\n",
              "<table border=\"1\" class=\"dataframe\">\n",
              "  <thead>\n",
              "    <tr style=\"text-align: right;\">\n",
              "      <th></th>\n",
              "      <th>CRIM</th>\n",
              "      <th>ZN</th>\n",
              "      <th>INDUS</th>\n",
              "      <th>CHAS</th>\n",
              "      <th>NOX</th>\n",
              "      <th>RM</th>\n",
              "      <th>AGE</th>\n",
              "      <th>DIS</th>\n",
              "      <th>RAD</th>\n",
              "      <th>TAX</th>\n",
              "      <th>PTRATIO</th>\n",
              "      <th>B</th>\n",
              "      <th>LSTAT</th>\n",
              "    </tr>\n",
              "  </thead>\n",
              "  <tbody>\n",
              "    <tr>\n",
              "      <th>0</th>\n",
              "      <td>0.00632</td>\n",
              "      <td>18.0</td>\n",
              "      <td>2.31</td>\n",
              "      <td>0.0</td>\n",
              "      <td>0.538</td>\n",
              "      <td>6.575</td>\n",
              "      <td>65.2</td>\n",
              "      <td>4.0900</td>\n",
              "      <td>1.0</td>\n",
              "      <td>296.0</td>\n",
              "      <td>15.3</td>\n",
              "      <td>396.90</td>\n",
              "      <td>4.98</td>\n",
              "    </tr>\n",
              "    <tr>\n",
              "      <th>1</th>\n",
              "      <td>0.02731</td>\n",
              "      <td>0.0</td>\n",
              "      <td>7.07</td>\n",
              "      <td>0.0</td>\n",
              "      <td>0.469</td>\n",
              "      <td>6.421</td>\n",
              "      <td>78.9</td>\n",
              "      <td>4.9671</td>\n",
              "      <td>2.0</td>\n",
              "      <td>242.0</td>\n",
              "      <td>17.8</td>\n",
              "      <td>396.90</td>\n",
              "      <td>9.14</td>\n",
              "    </tr>\n",
              "    <tr>\n",
              "      <th>2</th>\n",
              "      <td>0.02729</td>\n",
              "      <td>0.0</td>\n",
              "      <td>7.07</td>\n",
              "      <td>0.0</td>\n",
              "      <td>0.469</td>\n",
              "      <td>7.185</td>\n",
              "      <td>61.1</td>\n",
              "      <td>4.9671</td>\n",
              "      <td>2.0</td>\n",
              "      <td>242.0</td>\n",
              "      <td>17.8</td>\n",
              "      <td>392.83</td>\n",
              "      <td>4.03</td>\n",
              "    </tr>\n",
              "    <tr>\n",
              "      <th>3</th>\n",
              "      <td>0.03237</td>\n",
              "      <td>0.0</td>\n",
              "      <td>2.18</td>\n",
              "      <td>0.0</td>\n",
              "      <td>0.458</td>\n",
              "      <td>6.998</td>\n",
              "      <td>45.8</td>\n",
              "      <td>6.0622</td>\n",
              "      <td>3.0</td>\n",
              "      <td>222.0</td>\n",
              "      <td>18.7</td>\n",
              "      <td>394.63</td>\n",
              "      <td>2.94</td>\n",
              "    </tr>\n",
              "    <tr>\n",
              "      <th>4</th>\n",
              "      <td>0.06905</td>\n",
              "      <td>0.0</td>\n",
              "      <td>2.18</td>\n",
              "      <td>0.0</td>\n",
              "      <td>0.458</td>\n",
              "      <td>7.147</td>\n",
              "      <td>54.2</td>\n",
              "      <td>6.0622</td>\n",
              "      <td>3.0</td>\n",
              "      <td>222.0</td>\n",
              "      <td>18.7</td>\n",
              "      <td>396.90</td>\n",
              "      <td>5.33</td>\n",
              "    </tr>\n",
              "    <tr>\n",
              "      <th>...</th>\n",
              "      <td>...</td>\n",
              "      <td>...</td>\n",
              "      <td>...</td>\n",
              "      <td>...</td>\n",
              "      <td>...</td>\n",
              "      <td>...</td>\n",
              "      <td>...</td>\n",
              "      <td>...</td>\n",
              "      <td>...</td>\n",
              "      <td>...</td>\n",
              "      <td>...</td>\n",
              "      <td>...</td>\n",
              "      <td>...</td>\n",
              "    </tr>\n",
              "    <tr>\n",
              "      <th>501</th>\n",
              "      <td>0.06263</td>\n",
              "      <td>0.0</td>\n",
              "      <td>11.93</td>\n",
              "      <td>0.0</td>\n",
              "      <td>0.573</td>\n",
              "      <td>6.593</td>\n",
              "      <td>69.1</td>\n",
              "      <td>2.4786</td>\n",
              "      <td>1.0</td>\n",
              "      <td>273.0</td>\n",
              "      <td>21.0</td>\n",
              "      <td>391.99</td>\n",
              "      <td>9.67</td>\n",
              "    </tr>\n",
              "    <tr>\n",
              "      <th>502</th>\n",
              "      <td>0.04527</td>\n",
              "      <td>0.0</td>\n",
              "      <td>11.93</td>\n",
              "      <td>0.0</td>\n",
              "      <td>0.573</td>\n",
              "      <td>6.120</td>\n",
              "      <td>76.7</td>\n",
              "      <td>2.2875</td>\n",
              "      <td>1.0</td>\n",
              "      <td>273.0</td>\n",
              "      <td>21.0</td>\n",
              "      <td>396.90</td>\n",
              "      <td>9.08</td>\n",
              "    </tr>\n",
              "    <tr>\n",
              "      <th>503</th>\n",
              "      <td>0.06076</td>\n",
              "      <td>0.0</td>\n",
              "      <td>11.93</td>\n",
              "      <td>0.0</td>\n",
              "      <td>0.573</td>\n",
              "      <td>6.976</td>\n",
              "      <td>91.0</td>\n",
              "      <td>2.1675</td>\n",
              "      <td>1.0</td>\n",
              "      <td>273.0</td>\n",
              "      <td>21.0</td>\n",
              "      <td>396.90</td>\n",
              "      <td>5.64</td>\n",
              "    </tr>\n",
              "    <tr>\n",
              "      <th>504</th>\n",
              "      <td>0.10959</td>\n",
              "      <td>0.0</td>\n",
              "      <td>11.93</td>\n",
              "      <td>0.0</td>\n",
              "      <td>0.573</td>\n",
              "      <td>6.794</td>\n",
              "      <td>89.3</td>\n",
              "      <td>2.3889</td>\n",
              "      <td>1.0</td>\n",
              "      <td>273.0</td>\n",
              "      <td>21.0</td>\n",
              "      <td>393.45</td>\n",
              "      <td>6.48</td>\n",
              "    </tr>\n",
              "    <tr>\n",
              "      <th>505</th>\n",
              "      <td>0.04741</td>\n",
              "      <td>0.0</td>\n",
              "      <td>11.93</td>\n",
              "      <td>0.0</td>\n",
              "      <td>0.573</td>\n",
              "      <td>6.030</td>\n",
              "      <td>80.8</td>\n",
              "      <td>2.5050</td>\n",
              "      <td>1.0</td>\n",
              "      <td>273.0</td>\n",
              "      <td>21.0</td>\n",
              "      <td>396.90</td>\n",
              "      <td>7.88</td>\n",
              "    </tr>\n",
              "  </tbody>\n",
              "</table>\n",
              "<p>506 rows × 13 columns</p>\n",
              "</div>"
            ],
            "text/plain": [
              "        CRIM    ZN  INDUS  CHAS    NOX     RM   AGE     DIS  RAD    TAX  \\\n",
              "0    0.00632  18.0   2.31   0.0  0.538  6.575  65.2  4.0900  1.0  296.0   \n",
              "1    0.02731   0.0   7.07   0.0  0.469  6.421  78.9  4.9671  2.0  242.0   \n",
              "2    0.02729   0.0   7.07   0.0  0.469  7.185  61.1  4.9671  2.0  242.0   \n",
              "3    0.03237   0.0   2.18   0.0  0.458  6.998  45.8  6.0622  3.0  222.0   \n",
              "4    0.06905   0.0   2.18   0.0  0.458  7.147  54.2  6.0622  3.0  222.0   \n",
              "..       ...   ...    ...   ...    ...    ...   ...     ...  ...    ...   \n",
              "501  0.06263   0.0  11.93   0.0  0.573  6.593  69.1  2.4786  1.0  273.0   \n",
              "502  0.04527   0.0  11.93   0.0  0.573  6.120  76.7  2.2875  1.0  273.0   \n",
              "503  0.06076   0.0  11.93   0.0  0.573  6.976  91.0  2.1675  1.0  273.0   \n",
              "504  0.10959   0.0  11.93   0.0  0.573  6.794  89.3  2.3889  1.0  273.0   \n",
              "505  0.04741   0.0  11.93   0.0  0.573  6.030  80.8  2.5050  1.0  273.0   \n",
              "\n",
              "     PTRATIO       B  LSTAT  \n",
              "0       15.3  396.90   4.98  \n",
              "1       17.8  396.90   9.14  \n",
              "2       17.8  392.83   4.03  \n",
              "3       18.7  394.63   2.94  \n",
              "4       18.7  396.90   5.33  \n",
              "..       ...     ...    ...  \n",
              "501     21.0  391.99   9.67  \n",
              "502     21.0  396.90   9.08  \n",
              "503     21.0  396.90   5.64  \n",
              "504     21.0  393.45   6.48  \n",
              "505     21.0  396.90   7.88  \n",
              "\n",
              "[506 rows x 13 columns]"
            ]
          },
          "metadata": {
            "tags": []
          },
          "execution_count": 223
        }
      ]
    },
    {
      "cell_type": "code",
      "metadata": {
        "id": "zPsUlgnntCJV"
      },
      "source": [
        ""
      ],
      "execution_count": null,
      "outputs": []
    }
  ]
}